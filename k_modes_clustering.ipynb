{
  "nbformat": 4,
  "nbformat_minor": 0,
  "metadata": {
    "colab": {
      "name": "k_modes_clustering.ipynb",
      "provenance": [],
      "collapsed_sections": [],
      "mount_file_id": "1qP5ugTen8zgiT-I1CxVpjsxJLtgsHR6b",
      "authorship_tag": "ABX9TyM7cUvtg0c3ajLHdIaUR3Zl",
      "include_colab_link": true
    },
    "kernelspec": {
      "name": "python3",
      "display_name": "Python 3"
    },
    "language_info": {
      "name": "python"
    }
  },
  "cells": [
    {
      "cell_type": "markdown",
      "metadata": {
        "id": "view-in-github",
        "colab_type": "text"
      },
      "source": [
        "<a href=\"https://colab.research.google.com/github/aoifekeane/EE475-Project/blob/main/k_modes_clustering.ipynb\" target=\"_parent\"><img src=\"https://colab.research.google.com/assets/colab-badge.svg\" alt=\"Open In Colab\"/></a>"
      ]
    },
    {
      "cell_type": "code",
      "metadata": {
        "colab": {
          "base_uri": "https://localhost:8080/"
        },
        "id": "ETXWU4Rp-Pxb",
        "outputId": "251b79d9-6f39-47db-9081-a1ac42824547"
      },
      "source": [
        "!pip install kmodes"
      ],
      "execution_count": null,
      "outputs": [
        {
          "output_type": "stream",
          "text": [
            "Collecting kmodes\n",
            "  Downloading https://files.pythonhosted.org/packages/9b/34/fffc601aa4d44b94e945a7cc72f477e09dffa7dce888898f2ffd9f4e343e/kmodes-0.11.0-py2.py3-none-any.whl\n",
            "Requirement already satisfied: numpy>=1.10.4 in /usr/local/lib/python3.7/dist-packages (from kmodes) (1.19.5)\n",
            "Requirement already satisfied: scikit-learn>=0.22.0 in /usr/local/lib/python3.7/dist-packages (from kmodes) (0.22.2.post1)\n",
            "Requirement already satisfied: scipy>=0.13.3 in /usr/local/lib/python3.7/dist-packages (from kmodes) (1.4.1)\n",
            "Requirement already satisfied: joblib>=0.11 in /usr/local/lib/python3.7/dist-packages (from kmodes) (1.0.1)\n",
            "Installing collected packages: kmodes\n",
            "Successfully installed kmodes-0.11.0\n"
          ],
          "name": "stdout"
        }
      ]
    },
    {
      "cell_type": "markdown",
      "metadata": {
        "id": "dSgePX7kvNGF"
      },
      "source": [
        "- Installing the k-modes library"
      ]
    },
    {
      "cell_type": "code",
      "metadata": {
        "id": "LQkvt3ri-RwL"
      },
      "source": [
        "\n",
        "import warnings\n",
        "warnings.filterwarnings('ignore')\n",
        "\n",
        "import numpy as np\n",
        "import pandas as pd\n",
        "\n",
        "import matplotlib.pyplot as plt"
      ],
      "execution_count": null,
      "outputs": []
    },
    {
      "cell_type": "markdown",
      "metadata": {
        "id": "n3QkEAbavS6t"
      },
      "source": [
        "- importing dependencies"
      ]
    },
    {
      "cell_type": "code",
      "metadata": {
        "id": "A_yiuT-e-UAa"
      },
      "source": [
        "list_of_types = ['waltz', 'march','three-two',\n",
        "                 'mazurka', 'strathspey', \n",
        "                 'slip jig', 'barndance']"
      ],
      "execution_count": null,
      "outputs": []
    },
    {
      "cell_type": "markdown",
      "metadata": {
        "id": "oA8SsxcdvVbd"
      },
      "source": [
        "- creating a list of types of tunes that we don't attempt to cluster"
      ]
    },
    {
      "cell_type": "code",
      "metadata": {
        "id": "TUwP8XJtAJPq"
      },
      "source": [
        "df = pd.read_csv(r\"/content/drive/MyDrive/project/sets.csv\")\n",
        "set_data = set_data = df[['tuneset','settingorder', 'name','type','mode']]\n",
        "set_data = set_data.groupby('tuneset').filter(lambda x: len(x) == 3)\n"
      ],
      "execution_count": null,
      "outputs": []
    },
    {
      "cell_type": "markdown",
      "metadata": {
        "id": "By636xKJvZ20"
      },
      "source": [
        "- reading in the set information\n",
        "- filtering it down to sets with only three tunes in them"
      ]
    },
    {
      "cell_type": "code",
      "metadata": {
        "id": "2el0ofXJCEwp"
      },
      "source": [
        "tunes = ['reel', 'jig', 'polka', 'hornpipe', 'slide']"
      ],
      "execution_count": null,
      "outputs": []
    },
    {
      "cell_type": "markdown",
      "metadata": {
        "id": "KGCgxh0-vgFF"
      },
      "source": [
        "- create a list of tunes that we do cluster for"
      ]
    },
    {
      "cell_type": "code",
      "metadata": {
        "id": "xMHvEKYeArBq"
      },
      "source": [
        "discrete_tunesets = set_data.tuneset.unique()\n",
        "df_dict = {elem : pd.DataFrame for elem in discrete_tunesets}\n",
        "i = 0\n",
        "for key in df_dict.keys():\n",
        "  i +=1\n",
        "  df_dict[key] = set_data[:][set_data.tuneset == key]"
      ],
      "execution_count": null,
      "outputs": []
    },
    {
      "cell_type": "markdown",
      "metadata": {
        "id": "bqAoBxfevl-8"
      },
      "source": [
        "- creates a dictionary of all tunesets"
      ]
    },
    {
      "cell_type": "code",
      "metadata": {
        "id": "3_Q7e9btA9op"
      },
      "source": [
        "\n",
        "\n",
        "from kmodes.kmodes import KModes\n",
        "j = 0\n",
        "c = np.empty((5, 5), dtype = float)\n",
        "for t in tunes:\n",
        "  k = []\n",
        "  i = 0\n",
        " \n",
        "  for key in df_dict.keys():\n",
        "    samp = df_dict[key]\n",
        "    if samp.iloc[0,:]['type'] in list_of_types:\n",
        "      continue\n",
        "    elif samp.iloc[0,:]['type'] == t:\n",
        "      k.append([samp.iloc[1,:]['type'], samp.iloc[2,:]['type']])\n",
        "      i+=1\n",
        "    else:\n",
        "      continue\n",
        "  if len(k)>0:\n",
        "    cost = []\n",
        "    for num_clusters in list(range(2,7)):\n",
        "      km_cao_t = KModes(n_clusters=num_clusters, init = \"Cao\", n_init = 1, verbose=1)\n",
        "      cao_types = km_cao_t.fit_predict(k)\n",
        "      cluster_centroids = pd.DataFrame(km_cao_t.cluster_centroids_)\n",
        "      cluster_centroids.columns = ['Tune 1', 'Tune 2']\n",
        "      c[j][num_clusters-2] = km_cao_t.cost_\n",
        "    j+=1\n",
        "    "
      ],
      "execution_count": null,
      "outputs": []
    },
    {
      "cell_type": "markdown",
      "metadata": {
        "id": "4oV-9k0Kv1hU"
      },
      "source": [
        "- records the cost of k-modes clustering for each tunes type\n",
        "- clusters range from k=2 to k=7\n",
        "- cost recorded per k for each tune"
      ]
    },
    {
      "cell_type": "code",
      "metadata": {
        "colab": {
          "base_uri": "https://localhost:8080/",
          "height": 340
        },
        "id": "RZtS2JCUwhS9",
        "outputId": "d11ac78e-af2f-4907-e3bd-48dcfaed6518"
      },
      "source": [
        "import matplotlib.pyplot as plt\n",
        "import numpy as np\n",
        "\n",
        "k_range = range(2,7,1)\n",
        "plt.figure(figsize=(25, 8))\n",
        "for i in range(0,5):\n",
        "  plt.subplot(1, 5, i+1)\n",
        "  plt.plot(k_range, c[i], label='Cost')\n",
        "  plt.legend(loc='lower right')\n",
        "  plt.title('Cost of clustering '+tunes[i]+'s')\n",
        "  plt.xlabel('Number of Clusters')\n",
        "  plt.ylabel('Cost')\n"
      ],
      "execution_count": null,
      "outputs": [
        {
          "output_type": "display_data",
          "data": {
            "image/png": "[encoded data removed]",
            "text/plain": [
              "<Figure size 1800x576 with 5 Axes>"
            ]
          },
          "metadata": {
            "tags": [],
            "needs_background": "light"
          }
        }
      ]
    },
    {
      "cell_type": "markdown",
      "metadata": {
        "id": "AuXtvGRIxGzL"
      },
      "source": [
        "- plots cost against values fo k for each tune\n",
        "- this helps us find the optimal value of k \n",
        "  - elbow method"
      ]
    },
    {
      "cell_type": "code",
      "metadata": {
        "id": "w5akHS3szKsS"
      },
      "source": [
        "meters_to_no_clusters = {\n",
        "    'reel': 4,\n",
        "    'jig': 5,\n",
        "    'polka': 3,\n",
        "    'hornpipe': 4,\n",
        "    'slide':4}"
      ],
      "execution_count": null,
      "outputs": []
    },
    {
      "cell_type": "markdown",
      "metadata": {
        "id": "eG3rKf9AxOAL"
      },
      "source": [
        "- number of clusters per tune type"
      ]
    },
    {
      "cell_type": "code",
      "metadata": {
        "colab": {
          "base_uri": "https://localhost:8080/"
        },
        "id": "47dVrhJ4FP5B",
        "outputId": "c633667c-da12-4d83-bb7c-387867bef6d6"
      },
      "source": [
        "from kmodes.kmodes import KModes\n",
        "from collections import Counter\n",
        "for t in tunes:\n",
        "  k = []\n",
        "  i = 0\n",
        "  print('------------')\n",
        "  print(t)\n",
        "  for key in df_dict.keys():\n",
        "    samp = df_dict[key]\n",
        "    if samp.iloc[0,:]['type'] in list_of_types:\n",
        "      continue\n",
        "    elif samp.iloc[0,:]['type'] == t:\n",
        "      k.append([samp.iloc[1,:]['type'], samp.iloc[2,:]['type']])\n",
        "      i+=1\n",
        "    else:\n",
        "      continue\n",
        "  if len(k)>0:\n",
        "    km_cao_t = KModes(n_clusters=meters_to_no_clusters[t], init = \"Cao\", n_init = 1, verbose=1)\n",
        "    cao_types = km_cao_t.fit_predict(k)\n",
        "    cluster_centroids = pd.DataFrame(km_cao_t.cluster_centroids_)\n",
        "    cluster_centroids.columns = ['Tune 1', 'Tune 2']\n",
        "    print(Counter(cao_types))\n",
        "    print(cluster_centroids)\n",
        "    "
      ],
      "execution_count": null,
      "outputs": [
        {
          "output_type": "stream",
          "text": [
            "------------\n",
            "reel\n",
            "Init: initializing centroids\n",
            "Init: initializing clusters\n",
            "Starting iterations...\n",
            "Run 1, iteration: 1/100, moves: 0, cost: 178.0\n",
            "Counter({0: 3707, 1: 78, 2: 32, 3: 31})\n",
            "  Tune 1    Tune 2\n",
            "0   reel      reel\n",
            "1   reel       jig\n",
            "2   reel  hornpipe\n",
            "3    jig      reel\n",
            "------------\n",
            "jig\n",
            "Init: initializing centroids\n",
            "Init: initializing clusters\n",
            "Starting iterations...\n",
            "Run 1, iteration: 1/100, moves: 0, cost: 287.0\n",
            "Counter({0: 2524, 1: 237, 2: 65, 3: 53, 4: 38})\n",
            "  Tune 1    Tune 2\n",
            "0    jig       jig\n",
            "1    jig      reel\n",
            "2    jig  slip jig\n",
            "3    jig     slide\n",
            "4   reel       jig\n",
            "------------\n",
            "polka\n",
            "Init: initializing centroids\n",
            "Init: initializing clusters\n",
            "Starting iterations...\n",
            "Run 1, iteration: 1/100, moves: 15, cost: 77.0\n",
            "Counter({0: 417, 1: 29, 2: 7})\n",
            "  Tune 1 Tune 2\n",
            "0  polka  polka\n",
            "1   reel   reel\n",
            "2   reel  polka\n",
            "------------\n",
            "hornpipe\n",
            "Init: initializing centroids\n",
            "Init: initializing clusters\n",
            "Starting iterations...\n",
            "Run 1, iteration: 1/100, moves: 41, cost: 71.0\n",
            "Counter({0: 279, 1: 63, 2: 16, 3: 11})\n",
            "     Tune 1    Tune 2\n",
            "0  hornpipe  hornpipe\n",
            "1      reel      reel\n",
            "2      reel  hornpipe\n",
            "3       jig       jig\n",
            "------------\n",
            "slide\n",
            "Init: initializing centroids\n",
            "Init: initializing clusters\n",
            "Starting iterations...\n",
            "Run 1, iteration: 1/100, moves: 0, cost: 29.0\n",
            "Counter({0: 107, 1: 57, 2: 14, 3: 10})\n",
            "  Tune 1 Tune 2\n",
            "0  slide  slide\n",
            "1    jig    jig\n",
            "2    jig  slide\n",
            "3  slide    jig\n"
          ],
          "name": "stdout"
        }
      ]
    },
    {
      "cell_type": "markdown",
      "metadata": {
        "id": "_4Hd1VrixSa7"
      },
      "source": [
        "- performs k-modes clustering across tune types\n",
        "- data only filtered so that the first tune in the set aligns with the tunes we want to cluster for\n",
        "- number of clusters for each type of tune as determine previously\n",
        "- k-modes algorithm uses cao initialisation\n",
        "- counts the number of data points in each cluster to get the weights associated with them, since they are not balanced\n",
        "- prints the centroids of each cluster, as the tune types of the second and thrid tunes in a set "
      ]
    }
  ]
}