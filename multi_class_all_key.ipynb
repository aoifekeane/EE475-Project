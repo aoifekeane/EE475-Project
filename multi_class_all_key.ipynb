{
  "nbformat": 4,
  "nbformat_minor": 0,
  "metadata": {
    "accelerator": "GPU",
    "colab": {
      "name": "multi_class_all_key.ipynb",
      "provenance": [],
      "collapsed_sections": [],
      "mount_file_id": "1oZbWVawrknpycsHUBfhpwU4ZTWyM4NQ5",
      "authorship_tag": "ABX9TyNG59r4Ir3Y66YvLCais9SR",
      "include_colab_link": true
    },
    "kernelspec": {
      "display_name": "Python 3",
      "name": "python3"
    }
  },
  "cells": [
    {
      "cell_type": "markdown",
      "metadata": {
        "id": "view-in-github",
        "colab_type": "text"
      },
      "source": [
        "<a href=\"https://colab.research.google.com/github/aoifekeane/EE475-Project/blob/main/multi_class_all_key.ipynb\" target=\"_parent\"><img src=\"https://colab.research.google.com/assets/colab-badge.svg\" alt=\"Open In Colab\"/></a>"
      ]
    },
    {
      "cell_type": "markdown",
      "metadata": {
        "id": "71IUeGU2yOpf"
      },
      "source": [
        "# Multi-class classifier for keys and modes\n",
        "This notebook builds a multi-class classifier for key and mode data of music \n",
        "\n"
      ]
    },
    {
      "cell_type": "code",
      "metadata": {
        "id": "bf73Xiriz-lr"
      },
      "source": [
        "seed = 201715226"
      ],
      "execution_count": null,
      "outputs": []
    },
    {
      "cell_type": "markdown",
      "metadata": {
        "id": "ECdkhgON1Vtm"
      },
      "source": [
        "This is a random seed used for repeatablity"
      ]
    },
    {
      "cell_type": "code",
      "metadata": {
        "id": "yrpSstOyI6xp"
      },
      "source": [
        "import glob\n",
        "import tensorflow as tf\n",
        "import numpy as np\n",
        "\n",
        "img_height = 288\n",
        "img_width = 432\n",
        "\n",
        "ador = glob.glob('/content/drive/MyDrive/project/key_images/ador/*.*')\n",
        "amaj = glob.glob('/content/drive/MyDrive/project/key_images/amaj/*.*')\n",
        "amin = glob.glob('/content/drive/MyDrive/project/key_images/amin/*.*')\n",
        "amix = glob.glob('/content/drive/MyDrive/project/key_images/amix/*.*')\n",
        "bmin = glob.glob('/content/drive/MyDrive/project/key_images/bmin/*.*')\n",
        "cmaj = glob.glob('/content/drive/MyDrive/project/key_images/cmaj/*.*')\n",
        "dmaj = glob.glob('/content/drive/MyDrive/project/key_images/dmaj/*.*')\n",
        "dmin = glob.glob('/content/drive/MyDrive/project/key_images/dmin/*.*')\n",
        "dmix = glob.glob('/content/drive/MyDrive/project/key_images/dmix/*.*')\n",
        "edor = glob.glob('/content/drive/MyDrive/project/key_images/edor/*.*')\n",
        "emaj = glob.glob('/content/drive/MyDrive/project/key_images/emaj/*.*')\n",
        "emin = glob.glob('/content/drive/MyDrive/project/key_images/emin/*.*')\n",
        "fmaj = glob.glob('/content/drive/MyDrive/project/key_images/fmaj/*.*')\n",
        "gmaj = glob.glob('/content/drive/MyDrive/project/key_images/gmaj/*.*')\n",
        "gmin = glob.glob('/content/drive/MyDrive/project/key_images/gmin/*.*')\n",
        "data = []\n",
        "labels = []\n",
        "print('ador')\n",
        "a= 0\n",
        "for i in ador:   \n",
        "    image=tf.keras.preprocessing.image.load_img(i, color_mode='rgb', \n",
        "    target_size= (img_width,img_height))\n",
        "    image=np.array(image)\n",
        "    data.append(image)\n",
        "    labels.append(0)\n",
        "    a +=1\n",
        "    if a > 100:\n",
        "      break\n",
        "print('amaj')\n",
        "a= 0\n",
        "for i in amaj:   \n",
        "    image=tf.keras.preprocessing.image.load_img(i, color_mode='rgb', \n",
        "    target_size= (img_width,img_height))\n",
        "    image=np.array(image)\n",
        "    data.append(image)\n",
        "    labels.append(1)\n",
        "    a +=1\n",
        "    if a > 100:\n",
        "      break\n",
        "print('amin')\n",
        "a= 0\n",
        "for i in amin:   \n",
        "    image=tf.keras.preprocessing.image.load_img(i, color_mode='rgb', \n",
        "    target_size= (img_width,img_height))\n",
        "    image=np.array(image)\n",
        "    data.append(image)\n",
        "    labels.append(2)\n",
        "    a +=1\n",
        "    if a > 100:\n",
        "      break\n",
        "print('amix')\n",
        "a= 0\n",
        "for i in amix:   \n",
        "    image=tf.keras.preprocessing.image.load_img(i, color_mode='rgb', \n",
        "    target_size= (img_width,img_height))\n",
        "    image=np.array(image)\n",
        "    data.append(image)\n",
        "    labels.append(3)\n",
        "    a +=1\n",
        "    if a > 100:\n",
        "      break\n",
        "print('bmin')\n",
        "a= 0\n",
        "for i in bmin:   \n",
        "    image=tf.keras.preprocessing.image.load_img(i, color_mode='rgb', \n",
        "    target_size= (img_width,img_height))\n",
        "    image=np.array(image)\n",
        "    data.append(image)\n",
        "    labels.append(4)\n",
        "    a +=1\n",
        "    if a > 100:\n",
        "      break\n",
        "print('cmaj')\n",
        "a = 0\n",
        "for i in cmaj:   \n",
        "    image=tf.keras.preprocessing.image.load_img(i, color_mode='rgb', \n",
        "    target_size= (img_width,img_height))\n",
        "    image=np.array(image)\n",
        "    data.append(image)\n",
        "    labels.append(5)\n",
        "    a +=1\n",
        "    if a > 100:\n",
        "      break\n",
        "print('dmaj')\n",
        "a = 0\n",
        "for i in dmaj:   \n",
        "    image=tf.keras.preprocessing.image.load_img(i, color_mode='rgb', \n",
        "    target_size= (img_width,img_height))\n",
        "    image=np.array(image)\n",
        "    data.append(image)\n",
        "    labels.append(6)\n",
        "    a +=1\n",
        "    if a > 100:\n",
        "      break\n",
        "print('dmin')\n",
        "a = 0\n",
        "for i in dmin:   \n",
        "    image=tf.keras.preprocessing.image.load_img(i, color_mode='rgb', \n",
        "    target_size= (img_width,img_height))\n",
        "    image=np.array(image)\n",
        "    data.append(image)\n",
        "    labels.append(7)\n",
        "    a +=1\n",
        "    if a > 100:\n",
        "      break\n",
        "print('dmix')\n",
        "a= 0\n",
        "for i in dmix:   \n",
        "    image=tf.keras.preprocessing.image.load_img(i, color_mode='rgb', \n",
        "    target_size= (img_width,img_height))\n",
        "    image=np.array(image)\n",
        "    data.append(image)\n",
        "    labels.append(8)\n",
        "    a +=1\n",
        "    if a > 100:\n",
        "      break\n",
        "print('edor')\n",
        "a= 0\n",
        "for i in edor:   \n",
        "    image=tf.keras.preprocessing.image.load_img(i, color_mode='rgb', \n",
        "    target_size= (img_width,img_height))\n",
        "    image=np.array(image)\n",
        "    data.append(image)\n",
        "    labels.append(9)\n",
        "    a +=1\n",
        "    if a > 100:\n",
        "      break\n",
        "print('emaj')\n",
        "a = 0\n",
        "for i in emaj:   \n",
        "    image=tf.keras.preprocessing.image.load_img(i, color_mode='rgb', \n",
        "    target_size= (img_width,img_height))\n",
        "    image=np.array(image)\n",
        "    data.append(image)\n",
        "    labels.append(10)\n",
        "    a +=1\n",
        "    if a > 100:\n",
        "      break\n",
        "print('emin')\n",
        "a = 0\n",
        "for i in emin:   \n",
        "    image=tf.keras.preprocessing.image.load_img(i, color_mode='rgb', \n",
        "    target_size= (img_width,img_height))\n",
        "    image=np.array(image)\n",
        "    data.append(image)\n",
        "    labels.append(11)\n",
        "    a +=1\n",
        "    if a > 100:\n",
        "      break\n",
        "print('fmaj')\n",
        "a = 0\n",
        "for i in fmaj:   \n",
        "    image=tf.keras.preprocessing.image.load_img(i, color_mode='rgb', \n",
        "    target_size= (img_width,img_height))\n",
        "    image=np.array(image)\n",
        "    data.append(image)\n",
        "    labels.append(12)\n",
        "    a +=1\n",
        "    if a > 100:\n",
        "      break\n",
        "print('gmaj')\n",
        "a = 0\n",
        "for i in gmaj:   \n",
        "    image=tf.keras.preprocessing.image.load_img(i, color_mode='rgb', \n",
        "    target_size= (img_width,img_height))\n",
        "    image=np.array(image)\n",
        "    data.append(image)\n",
        "    labels.append(13)\n",
        "    a +=1\n",
        "    if a > 100:\n",
        "      break\n",
        "print('gmin')\n",
        "a = 0\n",
        "for i in gmin:   \n",
        "    image=tf.keras.preprocessing.image.load_img(i, color_mode='rgb', \n",
        "    target_size= (img_width,img_height))\n",
        "    image=np.array(image)\n",
        "    data.append(image)\n",
        "    labels.append(14)\n",
        "    a +=1\n",
        "    if a > 100:\n",
        "      break\n",
        "data = np.array(data)\n",
        "labels = np.array(labels)\n",
        "\n",
        "train_ratio = 0.75\n",
        "validation_ratio = 0.15\n",
        "test_ratio = 0.10\n",
        "\n",
        "from sklearn.model_selection import train_test_split\n",
        "x_train, x_test, y_train, y_test = train_test_split(data, labels, test_size=1 - train_ratio, random_state=seed)\n",
        "x_val, x_test, y_val, y_test = train_test_split(x_test, y_test, test_size=test_ratio/(test_ratio + validation_ratio), random_state=seed) "
      ],
      "execution_count": null,
      "outputs": []
    },
    {
      "cell_type": "markdown",
      "metadata": {
        "id": "QpyBWbYI1xj_"
      },
      "source": [
        "This code reads in tries to read in 100 images from each class\n",
        "If there are not 100 images in that class,all the images in the class are configured as inputs\n",
        "Each class is labelled with a value from 0 -14, for the 15 classes\n",
        "The data is split with a 75-15-10 train-validation-test split"
      ]
    },
    {
      "cell_type": "code",
      "metadata": {
        "id": "1TQzH9jkObAG"
      },
      "source": [
        "class_weights = {\n",
        "    0: 3.8461,\n",
        "    1:1,\n",
        "    2:1,\n",
        "    3:4.1667,\n",
        "    4:3.8461,\n",
        "    5:1,\n",
        "    6:1,\n",
        "    7:1,\n",
        "    8:2.1738,\n",
        "    9:10,\n",
        "    10:1.49,\n",
        "    11:1,\n",
        "    12:1,\n",
        "    13:1,\n",
        "    14:1\n",
        "}"
      ],
      "execution_count": null,
      "outputs": []
    },
    {
      "cell_type": "markdown",
      "metadata": {
        "id": "xQ4oDKC04Wgk"
      },
      "source": [
        "Every class has an associated weight based on how mnay samples there are available\n",
        "Because we sampled to a max of 100 per class, only the classes that have fewer than 100 samples need to be weighted\n",
        "The weights are calculated by dividing the number of samples in a class by 100"
      ]
    },
    {
      "cell_type": "code",
      "metadata": {
        "id": "j2jw6NJ0KBVr"
      },
      "source": [
        "from tensorflow.keras import layers\n",
        "from tensorflow.keras.models import Sequential\n",
        "num_classes = 15\n",
        "\n",
        "model = Sequential([\n",
        "  layers.experimental.preprocessing.Rescaling(1./255, input_shape=(img_width, img_height, 3)),\n",
        "  layers.Conv2D(16, 3, padding='same', activation='relu'),\n",
        "  layers.MaxPooling2D(2,2),\n",
        "  layers.Dropout(0.2),\n",
        "  layers.Conv2D(32, 3, padding='same', activation='relu'),\n",
        "  layers.MaxPooling2D(2,2),\n",
        "  layers.Dropout(0.2),\n",
        "  layers.Conv2D(64, 3, padding='same', activation='relu'),\n",
        "  layers.MaxPooling2D(2,2),\n",
        "  layers.Flatten(),\n",
        "  layers.Dense(128, activation='relu'),\n",
        "  layers.Dense(num_classes)\n",
        "])"
      ],
      "execution_count": null,
      "outputs": []
    },
    {
      "cell_type": "markdown",
      "metadata": {
        "id": "H37GlUwo40o8"
      },
      "source": [
        "This is the design for the CNN it consists of:\n",
        "- 3 2D convolutional layers\n",
        "- 2 max pooling layers\n",
        "- two instances of 20 percent dropout\n"
      ]
    },
    {
      "cell_type": "code",
      "metadata": {
        "id": "CUwy4T3RLTlJ"
      },
      "source": [
        "model.compile(optimizer='adam',\n",
        "              loss=tf.keras.losses.SparseCategoricalCrossentropy(from_logits=True),\n",
        "              metrics=['accuracy'])"
      ],
      "execution_count": null,
      "outputs": []
    },
    {
      "cell_type": "markdown",
      "metadata": {
        "id": "3FvNqla95EPE"
      },
      "source": [
        "- the model is compiled with the adam optimiser and with loss set as cross entropy"
      ]
    },
    {
      "cell_type": "code",
      "metadata": {
        "id": "Xxi8-VnXz5qp"
      },
      "source": [
        "checkpoint_filepath = '/content/drive/MyDrive/project/multiclass key models/all keys/model_epoch{epoch:02d}-loss{val_loss:.4f}'\n",
        "model_checkpoint_callback = tf.keras.callbacks.ModelCheckpoint(\n",
        "    filepath=checkpoint_filepath,\n",
        "    save_weights_only=True,\n",
        "    monitor='val_loss',\n",
        "    mode='min',\n",
        "    save_best_only=True)"
      ],
      "execution_count": null,
      "outputs": []
    },
    {
      "cell_type": "markdown",
      "metadata": {
        "id": "XdQNdvGQ5Mu9"
      },
      "source": [
        "this checkpoint saves weights of the model whilst training\n",
        "The weights are only saved when the model makes an improvement \n",
        "Improvement here is defined as minimised validation loss"
      ]
    },
    {
      "cell_type": "code",
      "metadata": {
        "id": "Cv05tEYiNQhn"
      },
      "source": [
        "epochs=30\n",
        "history = model.fit(\n",
        "  x = x_train, y = y_train,\n",
        "  validation_data= (x_val,y_val),\n",
        "  epochs=epochs,\n",
        "  class_weight = class_weights, \n",
        "  callbacks=[model_checkpoint_callback]\n",
        ")"
      ],
      "execution_count": null,
      "outputs": []
    },
    {
      "cell_type": "markdown",
      "metadata": {
        "id": "ydStNVe65p9D"
      },
      "source": [
        "The model is trained for 30 epochs"
      ]
    },
    {
      "cell_type": "code",
      "metadata": {
        "colab": {
          "base_uri": "https://localhost:8080/",
          "height": 513
        },
        "id": "6dpmEObNscIR",
        "outputId": "70689783-f15c-4be6-a962-9f923086a520"
      },
      "source": [
        "import matplotlib.pyplot as plt\n",
        "import numpy as np\n",
        "import os\n",
        "import PIL\n",
        "\n",
        "acc = history.history['accuracy']\n",
        "val_acc = history.history['val_accuracy']\n",
        "\n",
        "loss = history.history['loss']\n",
        "val_loss = history.history['val_loss']\n",
        "\n",
        "epochs_range = range(epochs)\n",
        "plt.figure(figsize=(8, 8))\n",
        "plt.subplot(1, 2, 1)\n",
        "plt.plot(epochs_range, acc, label='Training Accuracy')\n",
        "plt.plot(epochs_range, val_acc, label='Validation Accuracy')\n",
        "\n",
        "plt.legend(loc='lower right')\n",
        "plt.title('Training and Validation Accuracy')\n",
        "plt.xlabel('Epoch')\n",
        "plt.ylabel('Accuracy')\n",
        "plt.ylim([-0.1, 1.1])\n",
        "\n",
        "plt.subplot(1, 2, 2)\n",
        "plt.plot(epochs_range, loss, label='Training Loss')\n",
        "plt.plot(epochs_range, val_loss, label='Validation Loss')\n",
        "plt.legend(loc='upper right')\n",
        "plt.title('Training and Validation Loss')\n",
        "plt.xlabel('Epoch')\n",
        "plt.ylabel('Loss')\n",
        "plt.ylim([-0.1, 1.1])\n",
        "plt.show()"
      ],
      "execution_count": null,
      "outputs": [
        {
          "output_type": "display_data",
          "data": {
            "image/png": "[encoded data removed]",
            "text/plain": [
              "<Figure size 576x576 with 2 Axes>"
            ]
          },
          "metadata": {
            "tags": [],
            "needs_background": "light"
          }
        }
      ]
    },
    {
      "cell_type": "markdown",
      "metadata": {
        "id": "dXqNWDMM5tGL"
      },
      "source": [
        "The training and validation accuracies and losses are plotted for each epoch"
      ]
    },
    {
      "cell_type": "code",
      "metadata": {
        "colab": {
          "base_uri": "https://localhost:8080/",
          "height": 1000
        },
        "id": "ps0Kdz2LzsOS",
        "outputId": "be083d4a-3632-4587-f9f4-2b234eb53bfe"
      },
      "source": [
        "import tensorflow as tf\n",
        "from tensorflow.keras import datasets, layers, models\n",
        "from tensorflow.keras.models import Sequential\n",
        "from sklearn.metrics import confusion_matrix\n",
        "from sklearn.metrics import confusion_matrix\n",
        "import seaborn as sn\n",
        "import pandas as pd\n",
        "import matplotlib.pyplot as plt\n",
        "from tensorflow import keras\n",
        "y_pred = model.predict(x_test)\n",
        "predicted_categories = tf.argmax(y_pred, axis=1)\n",
        "true_categories = tf.concat([y_test], axis=0)\n",
        "array_1 = confusion_matrix(predicted_categories, true_categories, normalize=None)\n",
        "print(array_1)\n",
        "df_cm = pd.DataFrame(array_1, index = [i for i in ['ador', 'amaj', 'amin', 'amix', 'bmin', 'cmaj', 'dmaj', 'dmin','dmix','fmaj', 'edor','emaj', 'emin', 'gmaj', 'gmin']],\n",
        "                  columns = [i for i in ['ador', 'amaj', 'amin', 'amix', 'bmin', 'cmaj', 'dmaj', 'dmin','dmix','fmaj', 'edor','emaj', 'emin', 'gmaj', 'gmin']])\n",
        "plt.figure(figsize = (18,13))\n",
        "sn.heatmap(df_cm, annot=True)"
      ],
      "execution_count": null,
      "outputs": [
        {
          "output_type": "stream",
          "text": [
            "[[ 1  0  0  0  0  0  0  0  0  0  0  0  0  0  0]\n",
            " [ 0 11  0  1  0  0  1  0  0  0  0  0  0  0  0]\n",
            " [ 1  0  5  0  0  0  0  1  1  0  0  0  0  1  0]\n",
            " [ 0  0  0  0  0  0  1  0  0  0  0  0  0  0  0]\n",
            " [ 0  0  0  0  1  0  0  0  0  0  0  0  0  0  0]\n",
            " [ 0  0  0  0  0  9  0  0  0  0  0  0  0  0  0]\n",
            " [ 0  0  0  2  1  0  5  0  1  0  0  1  0  0  0]\n",
            " [ 0  0  0  0  0  0  1 12  0  0  0  0  1  0  1]\n",
            " [ 0  0  0  0  0  0  1  0  2  1  0  0  0  1  0]\n",
            " [ 0  0  0  0  0  0  0  0  0  1  0  1  0  0  0]\n",
            " [ 0  0  0  0  0  0  0  0  0  0  4  0  0  0  0]\n",
            " [ 0  0  0  0  0  0  0  0  2  0  0 11  0  1  0]\n",
            " [ 0  0  0  0  0  0  0  0  0  0  0  0 10  0  0]\n",
            " [ 0  0  0  0  1  0  0  0  0  0  0  1  0  7  0]\n",
            " [ 0  0  0  0  0  0  0  0  0  0  0  0  0  0  8]]\n"
          ],
          "name": "stdout"
        },
        {
          "output_type": "execute_result",
          "data": {
            "text/plain": [
              "<matplotlib.axes._subplots.AxesSubplot at 0x7fca6c70db10>"
            ]
          },
          "metadata": {
            "tags": []
          },
          "execution_count": 30
        },
        {
          "output_type": "display_data",
          "data": {
            "image/png": "[encoded data removed]",
            "text/plain": [
              "<Figure size 1296x936 with 2 Axes>"
            ]
          },
          "metadata": {
            "tags": [],
            "needs_background": "light"
          }
        }
      ]
    },
    {
      "cell_type": "markdown",
      "metadata": {
        "id": "bGnutM465zU0"
      },
      "source": [
        "A confusion matrix is plotted for evaluating the test results"
      ]
    },
    {
      "cell_type": "code",
      "metadata": {
        "id": "KBXkk0q83P8I"
      },
      "source": [
        "import numpy as np\n",
        "\n",
        "outcomes = np.empty((15,4), dtype= int)\n",
        "array_1 = np.array(array_1_)\n",
        "x = sum(array_1)\n",
        "all_vals = sum(x)\n",
        "\n",
        "#0 = tp\n",
        "#1 = fp\n",
        "#2 = fn\n",
        "#3 = tn\n",
        "\n",
        "for i in range(0,15):\n",
        "  mid = 0\n",
        "  outcomes[i][0] = array_1[i][i]\n",
        "  outcomes[i][1] = sum(array_1[i][:]) - array_1[i][i]\n",
        "  for j in range(0,15):\n",
        "    mid += array_1[j][i]\n",
        "  outcomes[i][2] = mid - array_1[i][i]\n",
        "  outcomes[i][3] = all_vals - (outcomes[i][0] + outcomes[i][1] + outcomes[i][2])\n",
        "\n"
      ],
      "execution_count": null,
      "outputs": []
    },
    {
      "cell_type": "markdown",
      "metadata": {
        "id": "RLb7pBDK56j7"
      },
      "source": [
        "The true positives, false positives, false negatives and true negatives are extacted from the confusion matrix for each class"
      ]
    },
    {
      "cell_type": "code",
      "metadata": {
        "colab": {
          "base_uri": "https://localhost:8080/"
        },
        "id": "x9-8hvSSBsx5",
        "outputId": "c19f0a78-8608-4c15-8ae3-4617c657e13b"
      },
      "source": [
        "print(outcomes)"
      ],
      "execution_count": null,
      "outputs": [
        {
          "output_type": "stream",
          "text": [
            "[[  1   0   1 109]\n",
            " [ 11   2   0  98]\n",
            " [  5   4   0 102]\n",
            " [  0   1   3 107]\n",
            " [  1   0   2 108]\n",
            " [  9   0   0 102]\n",
            " [  5   5   4  97]\n",
            " [ 12   3   1  95]\n",
            " [  2   3   4 102]\n",
            " [  1   1   1 108]\n",
            " [  4   0   0 107]\n",
            " [ 11   3   3  94]\n",
            " [ 10   0   1 100]\n",
            " [  7   2   3  99]\n",
            " [  8   0   1 102]]\n"
          ],
          "name": "stdout"
        }
      ]
    },
    {
      "cell_type": "code",
      "metadata": {
        "colab": {
          "base_uri": "https://localhost:8080/"
        },
        "id": "GSzZLhDjt9Jn",
        "outputId": "9a1dcb9a-2eb4-4881-dd39-45d891b6dce8"
      },
      "source": [
        "checkpoint_path = '/content/drive/MyDrive/project/multiclass key models/all keys/model_epoch09-loss0.6168'\n",
        "model.load_weights(checkpoint_path)"
      ],
      "execution_count": null,
      "outputs": [
        {
          "output_type": "execute_result",
          "data": {
            "text/plain": [
              "<tensorflow.python.training.tracking.util.CheckpointLoadStatus at 0x7fca5a74e0d0>"
            ]
          },
          "metadata": {
            "tags": []
          },
          "execution_count": 31
        }
      ]
    },
    {
      "cell_type": "markdown",
      "metadata": {
        "id": "Uc_VKrce6HUT"
      },
      "source": [
        "The weights of the model with the lowest validation loss are loaded in"
      ]
    },
    {
      "cell_type": "code",
      "metadata": {
        "colab": {
          "base_uri": "https://localhost:8080/",
          "height": 1000
        },
        "id": "WMWffnk4ujAI",
        "outputId": "75fe69ab-24b4-4190-b8cd-6efa059dc299"
      },
      "source": [
        "import tensorflow as tf\n",
        "from tensorflow.keras import datasets, layers, models\n",
        "from tensorflow.keras.models import Sequential\n",
        "from sklearn.metrics import confusion_matrix\n",
        "from sklearn.metrics import confusion_matrix\n",
        "import seaborn as sn\n",
        "import pandas as pd\n",
        "import matplotlib.pyplot as plt\n",
        "from tensorflow import keras\n",
        "y_pred = model.predict(x_test)\n",
        "predicted_categories = tf.argmax(y_pred, axis=1)\n",
        "true_categories = tf.concat([y_test], axis=0)\n",
        "array_2 = confusion_matrix(predicted_categories, true_categories, normalize=None)\n",
        "print(array_2)\n",
        "df_cm = pd.DataFrame(array_2, index = [i for i in ['ador', 'amaj', 'amin', 'amix', 'bmin', 'cmaj', 'dmaj', 'dmin','dmix','fmaj', 'edor','emaj', 'emin', 'gmaj', 'gmin']],\n",
        "                  columns = [i for i in ['ador', 'amaj', 'amin', 'amix', 'bmin', 'cmaj', 'dmaj', 'dmin','dmix','fmaj', 'edor','emaj', 'emin', 'gmaj', 'gmin']])\n",
        "plt.figure(figsize = (18,13))\n",
        "sn.heatmap(df_cm, annot=True)"
      ],
      "execution_count": null,
      "outputs": [
        {
          "output_type": "stream",
          "text": [
            "[[ 1  0  0  0  0  0  0  0  1  0  0  0  0  0  0]\n",
            " [ 0 10  0  1  0  0  1  0  0  0  1  0  0  0  0]\n",
            " [ 1  0  5  0  0  0  0  1  1  0  0  0  0  1  0]\n",
            " [ 0  0  0  0  0  0  0  0  0  0  0  0  0  0  0]\n",
            " [ 0  0  0  0  0  0  0  0  0  1  0  0  0  0  0]\n",
            " [ 0  0  0  0  0  9  0  0  0  0  0  0  0  0  0]\n",
            " [ 0  1  0  2  2  0  7  0  3  0  0  2  0  0  0]\n",
            " [ 0  0  0  0  0  0  0 12  0  0  0  0  2  0  1]\n",
            " [ 0  0  0  0  0  0  1  0  1  0  0  0  0  0  0]\n",
            " [ 0  0  0  0  0  0  0  0  0  1  0  1  0  0  0]\n",
            " [ 0  0  0  0  0  0  0  0  0  0  3  0  0  0  0]\n",
            " [ 0  0  0  0  0  0  0  0  0  0  0 10  0  1  0]\n",
            " [ 0  0  0  0  0  0  0  0  0  0  0  0  9  0  0]\n",
            " [ 0  0  0  0  1  0  0  0  0  0  0  1  0  8  0]\n",
            " [ 0  0  0  0  0  0  0  0  0  0  0  0  0  0  8]]\n"
          ],
          "name": "stdout"
        },
        {
          "output_type": "execute_result",
          "data": {
            "text/plain": [
              "<matplotlib.axes._subplots.AxesSubplot at 0x7fca5a784210>"
            ]
          },
          "metadata": {
            "tags": []
          },
          "execution_count": 32
        },
        {
          "output_type": "display_data",
          "data": {
            "image/png": "[encoded data removed]",
            "text/plain": [
              "<Figure size 1296x936 with 2 Axes>"
            ]
          },
          "metadata": {
            "tags": [],
            "needs_background": "light"
          }
        }
      ]
    },
    {
      "cell_type": "markdown",
      "metadata": {
        "id": "wHo8AY2u6OCT"
      },
      "source": [
        "This model with optimised weights is evaluated on the test data\n",
        "The results are plotted in a confusion matrix"
      ]
    },
    {
      "cell_type": "code",
      "metadata": {
        "id": "Vhpizi7DK-77"
      },
      "source": [
        "import numpy as np\n",
        "\n",
        "outcomes_ = np.empty((15,4), dtype= int)\n",
        "array_2 = np.array(array_2_)\n",
        "x = sum(array_2)\n",
        "all_vals = sum(x)\n",
        "\n",
        "#0 = tp\n",
        "#1 = fp\n",
        "#2 = fn\n",
        "#3 = tn\n",
        "\n",
        "for i in range(0,15):\n",
        "  mid = 0\n",
        "  outcomes_[i][0] = array_2[i][i]\n",
        "  outcomes_[i][1] = sum(array_2[i][:]) - array_2[i][i]\n",
        "  for j in range (0,15):\n",
        "    mid += array_2[j][i]\n",
        "  outcomes_[i][2] = mid - array_2[i][i]\n",
        "  outcomes_[i][3] = all_vals - (outcomes_[i][0] + outcomes_[i][1] + outcomes_[i][2])"
      ],
      "execution_count": null,
      "outputs": []
    },
    {
      "cell_type": "markdown",
      "metadata": {
        "id": "EJEDcejB6Xxr"
      },
      "source": [
        "The same TP, FP, FN ,TN values are extracted from this confusion matrix."
      ]
    },
    {
      "cell_type": "code",
      "metadata": {
        "colab": {
          "base_uri": "https://localhost:8080/"
        },
        "id": "0xZVW3tbLRGj",
        "outputId": "d38bb441-4c01-4e10-bf2c-0d5080676fa8"
      },
      "source": [
        "print(outcomes_)"
      ],
      "execution_count": null,
      "outputs": [
        {
          "output_type": "stream",
          "text": [
            "[[  1   1   1 108]\n",
            " [ 10   3   1  97]\n",
            " [  5   4   0 102]\n",
            " [  0   0   3 108]\n",
            " [  0   1   3 107]\n",
            " [  9   0   0 102]\n",
            " [  7  10   2  92]\n",
            " [ 12   3   1  95]\n",
            " [  1   1   5 104]\n",
            " [  1   1   1 108]\n",
            " [  3   0   1 107]\n",
            " [ 10   1   4  96]\n",
            " [  9   0   2 100]\n",
            " [  8   2   2  99]\n",
            " [  8   0   1 102]]\n"
          ],
          "name": "stdout"
        }
      ]
    }
  ]
}