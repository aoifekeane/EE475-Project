{
  "nbformat": 4,
  "nbformat_minor": 0,
  "metadata": {
    "colab": {
      "name": "multi_class_key_keys_only.ipynb",
      "provenance": [],
      "collapsed_sections": [],
      "mount_file_id": "1dGNzBtVhaTE45csIoU75KAjDu2dxx7Fe",
      "authorship_tag": "ABX9TyNdeaMzA63S4B/Yp2lU4eWK",
      "include_colab_link": true
    },
    "kernelspec": {
      "name": "python3",
      "display_name": "Python 3"
    },
    "language_info": {
      "name": "python"
    },
    "accelerator": "GPU"
  },
  "cells": [
    {
      "cell_type": "markdown",
      "metadata": {
        "id": "view-in-github",
        "colab_type": "text"
      },
      "source": [
        "<a href=\"https://colab.research.google.com/github/aoifekeane/EE475-Project/blob/main/multi_class_key_keys_only.ipynb\" target=\"_parent\"><img src=\"https://colab.research.google.com/assets/colab-badge.svg\" alt=\"Open In Colab\"/></a>"
      ]
    },
    {
      "cell_type": "markdown",
      "metadata": {
        "id": "bcjUCfKIdhwL"
      },
      "source": [
        "# Multi-class classifer for keys\n",
        "This notebook detials the creation and evaluation of a model designed to classify keys in a piece of music"
      ]
    },
    {
      "cell_type": "code",
      "metadata": {
        "id": "FqWe3D1UUOpw"
      },
      "source": [
        "import tensorflow as tf\n",
        "from tensorflow.keras import datasets, layers, models\n",
        "from tensorflow.keras.models import Sequential\n",
        "from sklearn.metrics import confusion_matrix\n",
        "import seaborn as sn\n",
        "import pandas as pd\n",
        "import matplotlib.pyplot as plt\n",
        "from tensorflow import keras"
      ],
      "execution_count": null,
      "outputs": []
    },
    {
      "cell_type": "markdown",
      "metadata": {
        "id": "9jeMhHvsfkKA"
      },
      "source": [
        "importing dependencies"
      ]
    },
    {
      "cell_type": "code",
      "metadata": {
        "id": "PbET092cOsHp"
      },
      "source": [
        "seed = 201715226"
      ],
      "execution_count": null,
      "outputs": []
    },
    {
      "cell_type": "markdown",
      "metadata": {
        "id": "QyUWzDdwfnAI"
      },
      "source": [
        "random seed for repeatablity"
      ]
    },
    {
      "cell_type": "code",
      "metadata": {
        "colab": {
          "base_uri": "https://localhost:8080/"
        },
        "id": "u-5wDk0VsxK4",
        "outputId": "378a8fd5-5586-4adf-f28b-9a32cf3f27e4"
      },
      "source": [
        "import glob\n",
        "import tensorflow as tf\n",
        "import numpy as np\n",
        "\n",
        "img_height = 288\n",
        "img_width = 432\n",
        "\n",
        "amaj = glob.glob('/content/drive/MyDrive/project/key_images/amaj/*.*')\n",
        "amin = glob.glob('/content/drive/MyDrive/project/key_images/amin/*.*')\n",
        "bmin = glob.glob('/content/drive/MyDrive/project/key_images/bmin/*.*')\n",
        "cmaj = glob.glob('/content/drive/MyDrive/project/key_images/cmaj/*.*')\n",
        "dmaj = glob.glob('/content/drive/MyDrive/project/key_images/dmaj/*.*')\n",
        "dmin = glob.glob('/content/drive/MyDrive/project/key_images/dmin/*.*')\n",
        "emaj = glob.glob('/content/drive/MyDrive/project/key_images/emaj/*.*')\n",
        "emin = glob.glob('/content/drive/MyDrive/project/key_images/emin/*.*')\n",
        "fmaj = glob.glob('/content/drive/MyDrive/project/key_images/fmaj/*.*')\n",
        "gmaj = glob.glob('/content/drive/MyDrive/project/key_images/gmaj/*.*')\n",
        "gmin = glob.glob('/content/drive/MyDrive/project/key_images/gmin/*.*')\n",
        "data = []\n",
        "labels = []\n",
        "\n",
        "print('amaj')\n",
        "a = 0\n",
        "for i in amaj:   \n",
        "    image=tf.keras.preprocessing.image.load_img(i, color_mode='rgb', \n",
        "    target_size= (img_width,img_height))\n",
        "    image=np.array(image)\n",
        "    data.append(image)\n",
        "    labels.append(0)\n",
        "    a+=1\n",
        "    if a >200:\n",
        "      break\n",
        "print('amin')\n",
        "a = 0\n",
        "for i in amin:   \n",
        "    image=tf.keras.preprocessing.image.load_img(i, color_mode='rgb', \n",
        "    target_size= (img_width,img_height))\n",
        "    image=np.array(image)\n",
        "    data.append(image)\n",
        "    labels.append(1)\n",
        "    a+=1\n",
        "    if a >200:\n",
        "      break\n",
        "\n",
        "print('bmin')\n",
        "a = 0\n",
        "for i in bmin:   \n",
        "    image=tf.keras.preprocessing.image.load_img(i, color_mode='rgb', \n",
        "    target_size= (img_width,img_height))\n",
        "    image=np.array(image)\n",
        "    data.append(image)\n",
        "    labels.append(2)\n",
        "    a +=1\n",
        "    if a > 200:\n",
        "      break\n",
        "\n",
        "print('cmaj')\n",
        "a = 0\n",
        "for i in cmaj:   \n",
        "    image=tf.keras.preprocessing.image.load_img(i, color_mode='rgb', \n",
        "    target_size= (img_width,img_height))\n",
        "    image=np.array(image)\n",
        "    data.append(image)\n",
        "    labels.append(3)\n",
        "    a +=1\n",
        "    if a >200:\n",
        "      break\n",
        "print('dmaj')\n",
        "a = 0\n",
        "for i in dmaj:   \n",
        "    image=tf.keras.preprocessing.image.load_img(i, color_mode='rgb', \n",
        "    target_size= (img_width,img_height))\n",
        "    image=np.array(image)\n",
        "    data.append(image)\n",
        "    labels.append(4)\n",
        "    a +=1\n",
        "    if a >200:\n",
        "      break\n",
        "print('dmin')\n",
        "a = 0\n",
        "for i in dmin:   \n",
        "    image=tf.keras.preprocessing.image.load_img(i, color_mode='rgb', \n",
        "    target_size= (img_width,img_height))\n",
        "    image=np.array(image)\n",
        "    data.append(image)\n",
        "    labels.append(5)\n",
        "    a +=1\n",
        "    if a >200:\n",
        "      break\n",
        "print('emaj')\n",
        "a = 0\n",
        "for i in emaj:   \n",
        "    image=tf.keras.preprocessing.image.load_img(i, color_mode='rgb', \n",
        "    target_size= (img_width,img_height))\n",
        "    image=np.array(image)\n",
        "    data.append(image)\n",
        "    labels.append(6)\n",
        "    a +=1\n",
        "    if a >200:\n",
        "      break\n",
        "print('emin')\n",
        "a = 0\n",
        "for i in emin:   \n",
        "    image=tf.keras.preprocessing.image.load_img(i, color_mode='rgb', \n",
        "    target_size= (img_width,img_height))\n",
        "    image=np.array(image)\n",
        "    data.append(image)\n",
        "    labels.append(7)\n",
        "    a +=1\n",
        "    if a >200:\n",
        "      break\n",
        "print('fmaj')\n",
        "a = 0\n",
        "for i in fmaj:   \n",
        "    image=tf.keras.preprocessing.image.load_img(i, color_mode='rgb', \n",
        "    target_size= (img_width,img_height))\n",
        "    image=np.array(image)\n",
        "    data.append(image)\n",
        "    labels.append(8)\n",
        "    a +=1\n",
        "    if a >200:\n",
        "      break\n",
        "print('gmaj')\n",
        "a = 0\n",
        "for i in gmaj:   \n",
        "    image=tf.keras.preprocessing.image.load_img(i, color_mode='rgb', \n",
        "    target_size= (img_width,img_height))\n",
        "    image=np.array(image)\n",
        "    data.append(image)\n",
        "    labels.append(9)\n",
        "    a+=1\n",
        "    if a >200:\n",
        "      break\n",
        "print('gmin')\n",
        "a = 0\n",
        "for i in gmin:   \n",
        "    image=tf.keras.preprocessing.image.load_img(i, color_mode='rgb', \n",
        "    target_size= (img_width,img_height))\n",
        "    image=np.array(image)\n",
        "    data.append(image)\n",
        "    labels.append(10)\n",
        "    a+=1\n",
        "    if a >200:\n",
        "      break\n",
        "      \n",
        "data = np.array(data)\n",
        "labels = np.array(labels)\n",
        "\n",
        "train_ratio = 0.75\n",
        "validation_ratio = 0.15\n",
        "test_ratio = 0.10\n",
        "\n",
        "from sklearn.model_selection import train_test_split\n",
        "x_train, x_test, y_train, y_test = train_test_split(data, labels, test_size=1 - train_ratio, random_state=seed)\n",
        "x_val, x_test, y_val, y_test = train_test_split(x_test, y_test, test_size=test_ratio/(test_ratio + validation_ratio), random_state=seed) \n"
      ],
      "execution_count": null,
      "outputs": [
        {
          "output_type": "stream",
          "text": [
            "amaj\n",
            "amin\n",
            "bmin\n",
            "cmaj\n",
            "dmaj\n",
            "dmin\n",
            "emaj\n",
            "emin\n",
            "fmaj\n",
            "gmaj\n",
            "gmin\n"
          ],
          "name": "stdout"
        }
      ]
    },
    {
      "cell_type": "markdown",
      "metadata": {
        "id": "8mVtsL7XfsaJ"
      },
      "source": [
        "- Importing the imags for each key\n",
        "- An image here is the chromagram representation of each audio\n",
        "- Each class is labelled 0 -10 for the 10 classes\n",
        "- Each class gets a maximum of 200 samples\n",
        "- Any class with fewer than 200 sample is just fully loaded in to input data\n",
        "- The data is split into 75% training data, 15% validation data and 10% test data\n"
      ]
    },
    {
      "cell_type": "code",
      "metadata": {
        "id": "zd357glVF_qd"
      },
      "source": [
        "class_weights = {0: 1,\n",
        "                 1 : 1,\n",
        "                 2: 7.6923,\n",
        "                 3: 1,\n",
        "                 4: 1,\n",
        "                 5: 1,\n",
        "                 6: 2.98506,\n",
        "                 7: 1.29032,\n",
        "                 8: 1,\n",
        "                 9: 1,\n",
        "                 10: 1\n",
        "                 }"
      ],
      "execution_count": null,
      "outputs": []
    },
    {
      "cell_type": "markdown",
      "metadata": {
        "id": "p_3UvwLbgdb_"
      },
      "source": [
        "- as not all classes have >=200 samples, the classes have to weighted\n",
        "- weights are determined by the size of the class divided by 200"
      ]
    },
    {
      "cell_type": "code",
      "metadata": {
        "colab": {
          "base_uri": "https://localhost:8080/",
          "height": 1000
        },
        "id": "prV-ZJDMJGKS",
        "outputId": "92fd123c-98a2-4519-ab67-be4fac935090"
      },
      "source": [
        "from sklearn.model_selection import KFold\n",
        "import tensorflow as tf\n",
        "from tensorflow.keras import datasets, layers, models\n",
        "from tensorflow.keras.models import Sequential\n",
        "from sklearn.metrics import confusion_matrix\n",
        "import seaborn as sn\n",
        "import pandas as pd\n",
        "import matplotlib.pyplot as plt\n",
        "inputs = x_train\n",
        "targets = y_train\n",
        "kfold = KFold(n_splits=5, shuffle=True, random_state =seed)\n",
        "acc_per_fold = []\n",
        "loss_per_fold = []\n",
        "fold_no = 1\n",
        "num_classes = 11\n",
        "folds = []\n",
        "\n",
        "for train, test in kfold.split(inputs, targets):\n",
        "  model = Sequential([\n",
        "    layers.experimental.preprocessing.Rescaling(1./255, input_shape=(img_width, img_height, 3)),\n",
        "    layers.Conv2D(16, 3, padding='same', activation='relu'),\n",
        "    layers.MaxPooling2D(2,2),\n",
        "    layers.Dropout(0.2),\n",
        "    layers.Conv2D(32, 3, padding='same', activation='relu'),\n",
        "    layers.MaxPooling2D(2,2),\n",
        "    layers.Dropout(0.2),\n",
        "    layers.Conv2D(64, 3, padding='same', activation='relu'),\n",
        "    layers.MaxPooling2D(2,2),\n",
        "    layers.Flatten(),\n",
        "    layers.Dense(128, activation='relu'),\n",
        "    layers.Dense(num_classes)\n",
        "  ])\n",
        "  model.compile(optimizer='adam',\n",
        "              loss=tf.keras.losses.SparseCategoricalCrossentropy(from_logits=True),\n",
        "              metrics=['accuracy'])\n",
        "  print('------------------------------------------------------------------------')\n",
        "  print(f'Training for fold {fold_no} ...')\n",
        "  epochs=10\n",
        "  history = model.fit(\n",
        "    inputs[train], targets[train],\n",
        "    validation_data= (x_val,y_val),\n",
        "    epochs=epochs,\n",
        "    class_weight = class_weights\n",
        "  )\n",
        "  scores = model.evaluate(inputs[test], targets[test], verbose=0)\n",
        "  print(f'Score for fold {fold_no}: {model.metrics_names[0]} of {scores[0]}; {model.metrics_names[1]} of {scores[1]*100}%')\n",
        "  acc_per_fold.append(scores[1] * 100)\n",
        "  loss_per_fold.append(scores[0])\n",
        "\n",
        "\n",
        "\n",
        "  fname = '/content/drive/MyDrive/project/multiclass key models/reduced keys more data/kfold/fold'+str(fold_no)\n",
        "  model.save(fname)\n",
        "  \n",
        "  from sklearn.metrics import confusion_matrix\n",
        "  import seaborn as sn\n",
        "  import pandas as pd\n",
        "  import matplotlib.pyplot as plt\n",
        "  y_pred = model.predict(inputs[test])\n",
        "  predicted_categories = tf.argmax(y_pred, axis=1)\n",
        "  true_categories = tf.concat(targets[test], axis=0)\n",
        "  array = confusion_matrix(predicted_categories, true_categories, normalize=None)\n",
        "  df_cm = pd.DataFrame(array, index = [i for i in ['amaj', 'amin', 'bmin', 'cmaj', 'dmaj','dmin', 'emaj', 'emin', 'fmaj', 'gmaj', 'gmin']],\n",
        "                    columns = [i for i in ['amaj', 'amin', 'bmin', 'cmaj', 'dmaj','dmin', 'emaj', 'emin', 'fmaj', 'gmaj', 'gmin']])\n",
        "  plt.figure(figsize = (10,7))\n",
        "  sn.heatmap(df_cm, annot=True)\n",
        "  print(array)\n",
        "  folds.append(array)\n",
        "  # Increase fold number\n",
        "  fold_no = fold_no + 1"
      ],
      "execution_count": null,
      "outputs": [
        {
          "output_type": "stream",
          "text": [
            "------------------------------------------------------------------------\n",
            "Training for fold 1 ...\n",
            "Epoch 1/10\n",
            "35/35 [==============================] - 7s 174ms/step - loss: 11.4224 - accuracy: 0.1343 - val_loss: 2.3258 - val_accuracy: 0.3165\n",
            "Epoch 2/10\n",
            "35/35 [==============================] - 5s 137ms/step - loss: 2.3453 - accuracy: 0.3872 - val_loss: 0.6458 - val_accuracy: 0.7842\n",
            "Epoch 3/10\n",
            "35/35 [==============================] - 5s 137ms/step - loss: 0.4706 - accuracy: 0.8547 - val_loss: 0.6407 - val_accuracy: 0.7554\n",
            "Epoch 4/10\n",
            "35/35 [==============================] - 5s 138ms/step - loss: 0.2747 - accuracy: 0.9076 - val_loss: 0.4241 - val_accuracy: 0.8849\n",
            "Epoch 5/10\n",
            "35/35 [==============================] - 5s 138ms/step - loss: 0.0790 - accuracy: 0.9759 - val_loss: 0.3119 - val_accuracy: 0.9065\n",
            "Epoch 6/10\n",
            "35/35 [==============================] - 5s 138ms/step - loss: 0.0400 - accuracy: 0.9904 - val_loss: 0.3410 - val_accuracy: 0.9245\n",
            "Epoch 7/10\n",
            "35/35 [==============================] - 5s 139ms/step - loss: 0.0135 - accuracy: 0.9983 - val_loss: 0.3366 - val_accuracy: 0.9245\n",
            "Epoch 8/10\n",
            "35/35 [==============================] - 5s 139ms/step - loss: 0.0030 - accuracy: 0.9999 - val_loss: 0.3884 - val_accuracy: 0.9317\n",
            "Epoch 9/10\n",
            "35/35 [==============================] - 5s 140ms/step - loss: 0.0048 - accuracy: 0.9999 - val_loss: 0.3772 - val_accuracy: 0.9101\n",
            "Epoch 10/10\n",
            "35/35 [==============================] - 5s 140ms/step - loss: 0.0020 - accuracy: 1.0000 - val_loss: 0.4341 - val_accuracy: 0.9209\n",
            "Score for fold 1: loss of 0.4588615298271179; accuracy of 92.83154010772705%\n",
            "INFO:tensorflow:Assets written to: /content/drive/MyDrive/project/multiclass key models/reduced keys more data/kfold/fold1/assets\n",
            "[[26  0  0  0  0  0  0  0  0  0  0]\n",
            " [ 1 33  0  1  0  2  0  1  0  0  0]\n",
            " [ 0  0  0  0  0  0  0  0  0  1  0]\n",
            " [ 0  0  0 32  0  0  0  0  0  1  0]\n",
            " [ 0  0  0  0 31  1  0  0  0  0  0]\n",
            " [ 0  0  0  0  0 20  0  0  0  0  2]\n",
            " [ 0  0  1  0  0  0 16  0  0  0  0]\n",
            " [ 0  0  0  0  0  0  0 23  0  3  0]\n",
            " [ 0  0  0  0  0  0  0  0 22  0  0]\n",
            " [ 0  0  0  0  0  0  0  0  0 22  0]\n",
            " [ 0  1  0  0  0  5  0  0  0  0 34]]\n",
            "------------------------------------------------------------------------\n",
            "Training for fold 2 ...\n",
            "Epoch 1/10\n",
            "35/35 [==============================] - 6s 146ms/step - loss: 5.4697 - accuracy: 0.1258 - val_loss: 2.3977 - val_accuracy: 0.0791\n",
            "Epoch 2/10\n",
            "35/35 [==============================] - 5s 141ms/step - loss: 2.8087 - accuracy: 0.2346 - val_loss: 2.2235 - val_accuracy: 0.4604\n",
            "Epoch 3/10\n",
            "35/35 [==============================] - 5s 141ms/step - loss: 2.1944 - accuracy: 0.5373 - val_loss: 0.5443 - val_accuracy: 0.8561\n",
            "Epoch 4/10\n",
            "35/35 [==============================] - 5s 141ms/step - loss: 0.4429 - accuracy: 0.8895 - val_loss: 0.3662 - val_accuracy: 0.8849\n",
            "Epoch 5/10\n",
            "35/35 [==============================] - 5s 140ms/step - loss: 0.1709 - accuracy: 0.9583 - val_loss: 0.3786 - val_accuracy: 0.8885\n",
            "Epoch 6/10\n",
            "35/35 [==============================] - 5s 140ms/step - loss: 0.0401 - accuracy: 0.9916 - val_loss: 0.3988 - val_accuracy: 0.8921\n",
            "Epoch 7/10\n",
            "35/35 [==============================] - 5s 139ms/step - loss: 0.0340 - accuracy: 0.9914 - val_loss: 0.3589 - val_accuracy: 0.9029\n",
            "Epoch 8/10\n",
            "35/35 [==============================] - 5s 140ms/step - loss: 0.0130 - accuracy: 0.9973 - val_loss: 0.4605 - val_accuracy: 0.9101\n",
            "Epoch 9/10\n",
            "35/35 [==============================] - 5s 139ms/step - loss: 0.0739 - accuracy: 0.9854 - val_loss: 0.3545 - val_accuracy: 0.9137\n",
            "Epoch 10/10\n",
            "35/35 [==============================] - 5s 139ms/step - loss: 0.0252 - accuracy: 0.9983 - val_loss: 0.3420 - val_accuracy: 0.9209\n",
            "Score for fold 2: loss of 0.2154829502105713; accuracy of 93.54838728904724%\n",
            "INFO:tensorflow:Assets written to: /content/drive/MyDrive/project/multiclass key models/reduced keys more data/kfold/fold2/assets\n",
            "[[27  0  0  0  0  0  0  0  0  0  0]\n",
            " [ 0 26  0  0  1  1  0  0  0  0  0]\n",
            " [ 0  0  2  0  0  0  0  0  0  0  0]\n",
            " [ 0  0  0 31  0  1  0  0  1  1  0]\n",
            " [ 1  0  1  0 26  1  0  0  0  2  0]\n",
            " [ 0  1  0  0  0 24  0  0  0  0  0]\n",
            " [ 1  0  0  0  0  0 14  0  0  0  0]\n",
            " [ 0  0  0  0  0  0  0 23  0  0  0]\n",
            " [ 0  0  0  0  0  2  0  0 30  0  1]\n",
            " [ 0  0  0  0  0  1  0  1  0 32  0]\n",
            " [ 0  0  0  0  0  1  0  0  0  0 26]]\n",
            "------------------------------------------------------------------------\n",
            "Training for fold 3 ...\n",
            "Epoch 1/10\n",
            "35/35 [==============================] - 6s 162ms/step - loss: 8.6856 - accuracy: 0.1491 - val_loss: 2.2807 - val_accuracy: 0.1295\n",
            "Epoch 2/10\n",
            "35/35 [==============================] - 5s 140ms/step - loss: 2.2046 - accuracy: 0.3759 - val_loss: 0.7490 - val_accuracy: 0.8741\n",
            "Epoch 3/10\n",
            "35/35 [==============================] - 5s 140ms/step - loss: 0.5090 - accuracy: 0.8884 - val_loss: 0.4592 - val_accuracy: 0.8993\n",
            "Epoch 4/10\n",
            "35/35 [==============================] - 5s 139ms/step - loss: 0.1927 - accuracy: 0.9527 - val_loss: 0.2801 - val_accuracy: 0.9281\n",
            "Epoch 5/10\n",
            "35/35 [==============================] - 5s 139ms/step - loss: 0.0875 - accuracy: 0.9709 - val_loss: 0.3021 - val_accuracy: 0.9281\n",
            "Epoch 6/10\n",
            "35/35 [==============================] - 5s 138ms/step - loss: 0.0777 - accuracy: 0.9774 - val_loss: 0.3574 - val_accuracy: 0.9173\n",
            "Epoch 7/10\n",
            "35/35 [==============================] - 5s 139ms/step - loss: 0.0263 - accuracy: 0.9956 - val_loss: 0.2844 - val_accuracy: 0.9424\n",
            "Epoch 8/10\n",
            "35/35 [==============================] - 5s 140ms/step - loss: 0.0117 - accuracy: 0.9967 - val_loss: 0.3129 - val_accuracy: 0.9281\n",
            "Epoch 9/10\n",
            "35/35 [==============================] - 5s 139ms/step - loss: 0.0035 - accuracy: 1.0000 - val_loss: 0.3002 - val_accuracy: 0.9424\n",
            "Epoch 10/10\n",
            "35/35 [==============================] - 5s 139ms/step - loss: 0.0017 - accuracy: 1.0000 - val_loss: 0.3270 - val_accuracy: 0.9281\n",
            "Score for fold 3: loss of 0.4715200662612915; accuracy of 88.48921060562134%\n",
            "INFO:tensorflow:Assets written to: /content/drive/MyDrive/project/multiclass key models/reduced keys more data/kfold/fold3/assets\n",
            "[[24  0  2  0  0  0  1  1  0  0  0]\n",
            " [ 0 25  0  0  1  0  0  0  0  0  0]\n",
            " [ 0  0  2  0  0  0  0  1  0  0  0]\n",
            " [ 0  0  0 24  0  1  0  0  0  1  0]\n",
            " [ 1  0  1  0 39  0  0  0  0  1  0]\n",
            " [ 0  0  0  0  1 14  0  0  4  0  0]\n",
            " [ 1  0  0  0  0  0  9  0  0  0  0]\n",
            " [ 0  0  1  0  0  0  0 22  0  6  0]\n",
            " [ 0  0  0  0  0  1  0  0 33  0  0]\n",
            " [ 0  0  2  0  0  0  0  0  0 27  0]\n",
            " [ 0  0  0  0  0  3  0  0  2  0 27]]\n",
            "------------------------------------------------------------------------\n",
            "Training for fold 4 ...\n",
            "Epoch 1/10\n",
            "35/35 [==============================] - 6s 146ms/step - loss: 7.6964 - accuracy: 0.1160 - val_loss: 2.3815 - val_accuracy: 0.2374\n",
            "Epoch 2/10\n",
            "35/35 [==============================] - 5s 140ms/step - loss: 2.8167 - accuracy: 0.3088 - val_loss: 1.8597 - val_accuracy: 0.5108\n",
            "Epoch 3/10\n",
            "35/35 [==============================] - 5s 140ms/step - loss: 1.5576 - accuracy: 0.6730 - val_loss: 0.5680 - val_accuracy: 0.8201\n",
            "Epoch 4/10\n",
            "35/35 [==============================] - 5s 139ms/step - loss: 0.3389 - accuracy: 0.8935 - val_loss: 0.3319 - val_accuracy: 0.8957\n",
            "Epoch 5/10\n",
            "35/35 [==============================] - 5s 139ms/step - loss: 0.1275 - accuracy: 0.9621 - val_loss: 0.2771 - val_accuracy: 0.9065\n",
            "Epoch 6/10\n",
            "35/35 [==============================] - 5s 139ms/step - loss: 0.0439 - accuracy: 0.9866 - val_loss: 0.2990 - val_accuracy: 0.9137\n",
            "Epoch 7/10\n",
            "35/35 [==============================] - 5s 140ms/step - loss: 0.0209 - accuracy: 0.9946 - val_loss: 0.2883 - val_accuracy: 0.9173\n",
            "Epoch 8/10\n",
            "35/35 [==============================] - 5s 139ms/step - loss: 0.0029 - accuracy: 1.0000 - val_loss: 0.3004 - val_accuracy: 0.9245\n",
            "Epoch 9/10\n",
            "35/35 [==============================] - 5s 140ms/step - loss: 0.0011 - accuracy: 1.0000 - val_loss: 0.3141 - val_accuracy: 0.9245\n",
            "Epoch 10/10\n",
            "35/35 [==============================] - 5s 139ms/step - loss: 6.6545e-04 - accuracy: 1.0000 - val_loss: 0.3225 - val_accuracy: 0.9209\n",
            "Score for fold 4: loss of 0.4320200979709625; accuracy of 89.56834673881531%\n",
            "INFO:tensorflow:Assets written to: /content/drive/MyDrive/project/multiclass key models/reduced keys more data/kfold/fold4/assets\n",
            "[[26  0  1  0  0  0  0  0  0  0  0]\n",
            " [ 1 35  0  0  0  2  0  0  0  1  0]\n",
            " [ 0  0  5  0  1  0  0  0  0  0  0]\n",
            " [ 0  1  0 29  0  2  0  0  3  0  0]\n",
            " [ 0  0  0  0 19  1  0  0  0  2  0]\n",
            " [ 0  1  0  0  0 28  0  0  1  0  2]\n",
            " [ 0  0  0  0  0  0  8  0  0  0  0]\n",
            " [ 0  0  0  0  0  0  0 19  0  0  0]\n",
            " [ 0  0  0  0  0  2  0  0 27  0  1]\n",
            " [ 0  0  0  0  1  0  0  1  0 23  0]\n",
            " [ 0  0  0  0  0  4  0  0  1  0 30]]\n",
            "------------------------------------------------------------------------\n",
            "Training for fold 5 ...\n",
            "Epoch 1/10\n",
            "35/35 [==============================] - 6s 146ms/step - loss: 10.9459 - accuracy: 0.1065 - val_loss: 2.3897 - val_accuracy: 0.1547\n",
            "Epoch 2/10\n",
            "35/35 [==============================] - 5s 141ms/step - loss: 2.8008 - accuracy: 0.2615 - val_loss: 1.7200 - val_accuracy: 0.4281\n",
            "Epoch 3/10\n",
            "35/35 [==============================] - 5s 139ms/step - loss: 1.4602 - accuracy: 0.5953 - val_loss: 0.7007 - val_accuracy: 0.7914\n",
            "Epoch 4/10\n",
            "35/35 [==============================] - 5s 139ms/step - loss: 0.4858 - accuracy: 0.8601 - val_loss: 0.3295 - val_accuracy: 0.9029\n",
            "Epoch 5/10\n",
            "35/35 [==============================] - 5s 139ms/step - loss: 0.1698 - accuracy: 0.9631 - val_loss: 0.3486 - val_accuracy: 0.9029\n",
            "Epoch 6/10\n",
            "35/35 [==============================] - 5s 139ms/step - loss: 0.1075 - accuracy: 0.9765 - val_loss: 0.2842 - val_accuracy: 0.9460\n",
            "Epoch 7/10\n",
            "35/35 [==============================] - 5s 140ms/step - loss: 0.0393 - accuracy: 0.9871 - val_loss: 0.3071 - val_accuracy: 0.9424\n",
            "Epoch 8/10\n",
            "35/35 [==============================] - 5s 140ms/step - loss: 0.0234 - accuracy: 0.9950 - val_loss: 0.3511 - val_accuracy: 0.9173\n",
            "Epoch 9/10\n",
            "35/35 [==============================] - 5s 139ms/step - loss: 0.0106 - accuracy: 0.9977 - val_loss: 0.3202 - val_accuracy: 0.9353\n",
            "Epoch 10/10\n",
            "35/35 [==============================] - 5s 140ms/step - loss: 0.0050 - accuracy: 0.9995 - val_loss: 0.2911 - val_accuracy: 0.9568\n",
            "Score for fold 5: loss of 0.5094339847564697; accuracy of 89.56834673881531%\n",
            "INFO:tensorflow:Assets written to: /content/drive/MyDrive/project/multiclass key models/reduced keys more data/kfold/fold5/assets\n",
            "[[28  0  0  0  1  0  1  0  0  0  0]\n",
            " [ 0 23  0  0  0  0  0  0  0  0  0]\n",
            " [ 0  0  2  0  1  0  0  0  0  0  0]\n",
            " [ 0  0  0 28  0  0  0  0  1  0  0]\n",
            " [ 1  1  0  0 31  0  0  0  0  0  0]\n",
            " [ 0  4  0  2  0 31  0  0  3  0  3]\n",
            " [ 2  0  0  0  0  0  3  0  0  0  0]\n",
            " [ 0  0  0  0  0  0  0 22  0  0  0]\n",
            " [ 0  0  0  0  0  1  0  0 33  0  0]\n",
            " [ 0  0  0  0  2  0  0  1  0 23  1]\n",
            " [ 0  0  0  0  0  3  0  0  1  0 25]]\n"
          ],
          "name": "stdout"
        },
        {
          "output_type": "display_data",
          "data": {
            "image/png": "[encoded data removed]",
            "text/plain": [
              "<Figure size 720x504 with 2 Axes>"
            ]
          },
          "metadata": {
            "tags": [],
            "needs_background": "light"
          }
        },
        {
          "output_type": "display_data",
          "data": {
            "image/png": "[encoded data removed]",
            "text/plain": [
              "<Figure size 720x504 with 2 Axes>"
            ]
          },
          "metadata": {
            "tags": [],
            "needs_background": "light"
          }
        },
        {
          "output_type": "display_data",
          "data": {
            "image/png": "[encoded data removed]",
            "text/plain": [
              "<Figure size 720x504 with 2 Axes>"
            ]
          },
          "metadata": {
            "tags": [],
            "needs_background": "light"
          }
        },
        {
          "output_type": "display_data",
          "data": {
            "image/png": "[encoded data removed]",
            "text/plain": [
              "<Figure size 720x504 with 2 Axes>"
            ]
          },
          "metadata": {
            "tags": [],
            "needs_background": "light"
          }
        },
        {
          "output_type": "display_data",
          "data": {
            "image/png": "[encoded data removed]",
            "text/plain": [
              "<Figure size 720x504 with 2 Axes>"
            ]
          },
          "metadata": {
            "tags": [],
            "needs_background": "light"
          }
        }
      ]
    },
    {
      "cell_type": "markdown",
      "metadata": {
        "id": "5PefNKU7hThP"
      },
      "source": [
        "- performs 5-fold cross validation, producing 5 models trained on a different configurations of data\n",
        "- models are CNN comprising:\n",
        "  - 3 2D convolutional layers\n",
        "  - 2 max pooling layers\n",
        "  - 2 instances of 20% drop out\n",
        "- produces confusion matrices for each fold based on test data\n",
        "- saves model for each fold so that best model can be reloaded"
      ]
    },
    {
      "cell_type": "code",
      "metadata": {
        "id": "5sDWCl3g3hSX",
        "colab": {
          "base_uri": "https://localhost:8080/"
        },
        "outputId": "115abb57-7b1f-4f66-de3b-ffaf703e93d8"
      },
      "source": [
        "import numpy as np\n",
        "all_outcomes =  np.empty((5,11,4), dtype= int)\n",
        "for x in range(0,5):\n",
        "  print('TP FP FN TN')\n",
        "  outcomes = np.empty((11,4), dtype= int)\n",
        "  array = np.array(folds[x])\n",
        "  a = sum(array)\n",
        "  all_vals = sum(a)\n",
        "  #0 = tp\n",
        "  #1 = fp\n",
        "  #2 = fn\n",
        "  #3 = tn\n",
        "  for i in range(0,11):\n",
        "    mid = 0\n",
        "    outcomes[i][0] = array[i][i]\n",
        "    outcomes[i][1] = sum(array[i][:]) - array[i][i]\n",
        "    for j in range(0,11):\n",
        "      mid += array[j][i]\n",
        "    outcomes[i][2] = mid - array[i][i]\n",
        "    outcomes[i][3] = all_vals - (outcomes[i][0] + outcomes[i][1] + outcomes[i][2])\n",
        "  print(outcomes)\n",
        "  print('---------')\n",
        "  all_outcomes[x][:][:] = outcomes\n"
      ],
      "execution_count": null,
      "outputs": [
        {
          "output_type": "stream",
          "text": [
            "TP FP FN TN\n",
            "[[ 26   0   1 252]\n",
            " [ 33   5   1 240]\n",
            " [  0   1   1 277]\n",
            " [ 32   1   1 245]\n",
            " [ 31   1   0 247]\n",
            " [ 20   2   8 249]\n",
            " [ 16   1   0 262]\n",
            " [ 23   3   1 252]\n",
            " [ 22   0   0 257]\n",
            " [ 22   0   5 252]\n",
            " [ 34   6   2 237]]\n",
            "---------\n",
            "TP FP FN TN\n",
            "[[ 27   0   2 250]\n",
            " [ 26   2   1 250]\n",
            " [  2   0   1 276]\n",
            " [ 31   3   0 245]\n",
            " [ 26   5   1 247]\n",
            " [ 24   1   7 247]\n",
            " [ 14   1   0 264]\n",
            " [ 23   0   1 255]\n",
            " [ 30   3   1 245]\n",
            " [ 32   2   3 242]\n",
            " [ 26   1   1 251]]\n",
            "---------\n",
            "TP FP FN TN\n",
            "[[ 24   4   2 248]\n",
            " [ 25   1   0 252]\n",
            " [  2   1   6 269]\n",
            " [ 24   2   0 252]\n",
            " [ 39   3   2 234]\n",
            " [ 14   5   5 254]\n",
            " [  9   1   1 267]\n",
            " [ 22   7   2 247]\n",
            " [ 33   1   6 238]\n",
            " [ 27   2   8 241]\n",
            " [ 27   5   0 246]]\n",
            "---------\n",
            "TP FP FN TN\n",
            "[[ 26   1   1 250]\n",
            " [ 35   4   2 237]\n",
            " [  5   1   1 271]\n",
            " [ 29   6   0 243]\n",
            " [ 19   3   2 254]\n",
            " [ 28   4  11 235]\n",
            " [  8   0   0 270]\n",
            " [ 19   0   1 258]\n",
            " [ 27   3   5 243]\n",
            " [ 23   2   3 250]\n",
            " [ 30   5   3 240]]\n",
            "---------\n",
            "TP FP FN TN\n",
            "[[ 28   2   3 245]\n",
            " [ 23   0   5 250]\n",
            " [  2   1   0 275]\n",
            " [ 28   1   2 247]\n",
            " [ 31   2   4 241]\n",
            " [ 31  12   4 231]\n",
            " [  3   2   1 272]\n",
            " [ 22   0   1 255]\n",
            " [ 33   1   5 239]\n",
            " [ 23   4   0 251]\n",
            " [ 25   4   4 245]]\n",
            "---------\n"
          ],
          "name": "stdout"
        }
      ]
    },
    {
      "cell_type": "markdown",
      "metadata": {
        "id": "H012mEkuh54t"
      },
      "source": [
        "- produces the TP, FP, FN, TN of each class for each fold"
      ]
    },
    {
      "cell_type": "code",
      "metadata": {
        "colab": {
          "base_uri": "https://localhost:8080/"
        },
        "id": "s46-ik2a15lz",
        "outputId": "037c21a2-6ebc-4bec-a493-9cde886e5ee0"
      },
      "source": [
        "metrics = np.empty((5,11,4), dtype= float)\n",
        "i = 0\n",
        "for x in all_outcomes:\n",
        "  for y in range(0,11):\n",
        "    metrics[i][y][0] = x[y][0] / (x[y][0] + x[y][1])\n",
        "    metrics[i][y][1] = x[y][0] / (x[y][0] + x[y][2])\n",
        "    metrics[i][y][2] = x[y][3] / (x[y][3] + x[y][2])\n",
        "    metrics[i][y][3] =  2 * metrics[i][y][0] * metrics[i][y][1] / (metrics[i][y][0] + metrics[i][y][1])\n",
        "  i+=1\n",
        "print(metrics)"
      ],
      "execution_count": null,
      "outputs": [
        {
          "output_type": "stream",
          "text": [
            "[[[1.         0.96296296 0.99604743 0.98113208]\n",
            "  [0.86842105 0.97058824 0.99585062 0.91666667]\n",
            "  [0.         0.         0.99640288        nan]\n",
            "  [0.96969697 0.96969697 0.99593496 0.96969697]\n",
            "  [0.96875    1.         1.         0.98412698]\n",
            "  [0.90909091 0.71428571 0.9688716  0.8       ]\n",
            "  [0.94117647 1.         1.         0.96969697]\n",
            "  [0.88461538 0.95833333 0.99604743 0.92      ]\n",
            "  [1.         1.         1.         1.        ]\n",
            "  [1.         0.81481481 0.98054475 0.89795918]\n",
            "  [0.85       0.94444444 0.9916318  0.89473684]]\n",
            "\n",
            " [[1.         0.93103448 0.99206349 0.96428571]\n",
            "  [0.92857143 0.96296296 0.99601594 0.94545455]\n",
            "  [1.         0.66666667 0.99638989 0.8       ]\n",
            "  [0.91176471 1.         1.         0.95384615]\n",
            "  [0.83870968 0.96296296 0.99596774 0.89655172]\n",
            "  [0.96       0.77419355 0.97244094 0.85714286]\n",
            "  [0.93333333 1.         1.         0.96551724]\n",
            "  [1.         0.95833333 0.99609375 0.9787234 ]\n",
            "  [0.90909091 0.96774194 0.99593496 0.9375    ]\n",
            "  [0.94117647 0.91428571 0.9877551  0.92753623]\n",
            "  [0.96296296 0.96296296 0.99603175 0.96296296]]\n",
            "\n",
            " [[0.85714286 0.92307692 0.992      0.88888889]\n",
            "  [0.96153846 1.         1.         0.98039216]\n",
            "  [0.66666667 0.25       0.97818182 0.36363636]\n",
            "  [0.92307692 1.         1.         0.96      ]\n",
            "  [0.92857143 0.95121951 0.99152542 0.93975904]\n",
            "  [0.73684211 0.73684211 0.98069498 0.73684211]\n",
            "  [0.9        0.9        0.99626866 0.9       ]\n",
            "  [0.75862069 0.91666667 0.99196787 0.83018868]\n",
            "  [0.97058824 0.84615385 0.97540984 0.90410959]\n",
            "  [0.93103448 0.77142857 0.96787149 0.84375   ]\n",
            "  [0.84375    1.         1.         0.91525424]]\n",
            "\n",
            " [[0.96296296 0.96296296 0.99601594 0.96296296]\n",
            "  [0.8974359  0.94594595 0.9916318  0.92105263]\n",
            "  [0.83333333 0.83333333 0.99632353 0.83333333]\n",
            "  [0.82857143 1.         1.         0.90625   ]\n",
            "  [0.86363636 0.9047619  0.9921875  0.88372093]\n",
            "  [0.875      0.71794872 0.95528455 0.78873239]\n",
            "  [1.         1.         1.         1.        ]\n",
            "  [1.         0.95       0.996139   0.97435897]\n",
            "  [0.9        0.84375    0.97983871 0.87096774]\n",
            "  [0.92       0.88461538 0.98814229 0.90196078]\n",
            "  [0.85714286 0.90909091 0.98765432 0.88235294]]\n",
            "\n",
            " [[0.93333333 0.90322581 0.98790323 0.91803279]\n",
            "  [1.         0.82142857 0.98039216 0.90196078]\n",
            "  [0.66666667 1.         1.         0.8       ]\n",
            "  [0.96551724 0.93333333 0.99196787 0.94915254]\n",
            "  [0.93939394 0.88571429 0.98367347 0.91176471]\n",
            "  [0.72093023 0.88571429 0.98297872 0.79487179]\n",
            "  [0.6        0.75       0.996337   0.66666667]\n",
            "  [1.         0.95652174 0.99609375 0.97777778]\n",
            "  [0.97058824 0.86842105 0.9795082  0.91666667]\n",
            "  [0.85185185 1.         1.         0.92      ]\n",
            "  [0.86206897 0.86206897 0.98393574 0.86206897]]]\n"
          ],
          "name": "stdout"
        },
        {
          "output_type": "stream",
          "text": [
            "/usr/local/lib/python3.7/dist-packages/ipykernel_launcher.py:8: RuntimeWarning: invalid value encountered in double_scalars\n",
            "  \n"
          ],
          "name": "stderr"
        }
      ]
    },
    {
      "cell_type": "markdown",
      "metadata": {
        "id": "fPCwbZVAiOpn"
      },
      "source": [
        "- produces the precision, recall, specificity, and f-score for each class for each fold"
      ]
    },
    {
      "cell_type": "code",
      "metadata": {
        "id": "gai_HDSQEwTB"
      },
      "source": [
        "from tensorflow import keras\n",
        "model = keras.models.load_model('/content/drive/MyDrive/project/multiclass key models/reduced keys more data/kfold/fold2')"
      ],
      "execution_count": null,
      "outputs": []
    },
    {
      "cell_type": "markdown",
      "metadata": {
        "id": "EmzY_Mx3iUPe"
      },
      "source": [
        "- loads in the best performing model to be trained on all the data"
      ]
    },
    {
      "cell_type": "code",
      "metadata": {
        "id": "xFYqq2WSEdQb"
      },
      "source": [
        "checkpoint_filepath = '/content/drive/MyDrive/project/multiclass key models/reduced keys more data/model_epoch{epoch:02d}-loss{val_loss:.4f}'\n",
        "model_checkpoint_callback = tf.keras.callbacks.ModelCheckpoint(\n",
        "    filepath=checkpoint_filepath,\n",
        "    save_weights_only=True,\n",
        "    monitor='val_loss',\n",
        "    mode='min',\n",
        "    save_best_only=True)"
      ],
      "execution_count": null,
      "outputs": []
    },
    {
      "cell_type": "markdown",
      "metadata": {
        "id": "pzhnaPMGidBt"
      },
      "source": [
        "- creates a callback which will save the weights of the model whilst trainig\n",
        "- here it saves the model each time the validation loss is hits a new minimum"
      ]
    },
    {
      "cell_type": "code",
      "metadata": {
        "id": "Hf2xlUWuF5KF",
        "colab": {
          "base_uri": "https://localhost:8080/"
        },
        "outputId": "b346b1c5-994d-49ee-f47d-10182c422e0c"
      },
      "source": [
        "epochs=30\n",
        "history = model.fit(\n",
        "  x = x_train, y = y_train,\n",
        "  validation_data= (x_val,y_val),\n",
        "  epochs=epochs,\n",
        "  class_weight = class_weights,\n",
        "  callbacks=[model_checkpoint_callback]\n",
        ")"
      ],
      "execution_count": null,
      "outputs": [
        {
          "output_type": "stream",
          "text": [
            "Epoch 1/30\n",
            "44/44 [==============================] - 7s 138ms/step - loss: 0.1079 - accuracy: 0.9763 - val_loss: 0.2955 - val_accuracy: 0.9317\n",
            "Epoch 2/30\n",
            "44/44 [==============================] - 6s 133ms/step - loss: 0.0172 - accuracy: 0.9971 - val_loss: 0.3615 - val_accuracy: 0.9281\n",
            "Epoch 3/30\n",
            "44/44 [==============================] - 6s 136ms/step - loss: 0.0064 - accuracy: 0.9986 - val_loss: 0.3486 - val_accuracy: 0.9353\n",
            "Epoch 4/30\n",
            "44/44 [==============================] - 6s 135ms/step - loss: 8.1496e-04 - accuracy: 1.0000 - val_loss: 0.3794 - val_accuracy: 0.9460\n",
            "Epoch 5/30\n",
            "44/44 [==============================] - 6s 136ms/step - loss: 3.0549e-04 - accuracy: 1.0000 - val_loss: 0.3712 - val_accuracy: 0.9496\n",
            "Epoch 6/30\n",
            "44/44 [==============================] - 6s 136ms/step - loss: 1.8618e-04 - accuracy: 1.0000 - val_loss: 0.3792 - val_accuracy: 0.9496\n",
            "Epoch 7/30\n",
            "44/44 [==============================] - 6s 136ms/step - loss: 1.3833e-04 - accuracy: 1.0000 - val_loss: 0.3868 - val_accuracy: 0.9460\n",
            "Epoch 8/30\n",
            "44/44 [==============================] - 6s 135ms/step - loss: 9.1949e-05 - accuracy: 1.0000 - val_loss: 0.3951 - val_accuracy: 0.9496\n",
            "Epoch 9/30\n",
            "44/44 [==============================] - 6s 135ms/step - loss: 7.5760e-05 - accuracy: 1.0000 - val_loss: 0.4007 - val_accuracy: 0.9496\n",
            "Epoch 10/30\n",
            "44/44 [==============================] - 6s 135ms/step - loss: 5.2874e-05 - accuracy: 1.0000 - val_loss: 0.4037 - val_accuracy: 0.9496\n",
            "Epoch 11/30\n",
            "44/44 [==============================] - 6s 135ms/step - loss: 5.4261e-05 - accuracy: 1.0000 - val_loss: 0.4082 - val_accuracy: 0.9496\n",
            "Epoch 12/30\n",
            "44/44 [==============================] - 6s 135ms/step - loss: 4.2648e-05 - accuracy: 1.0000 - val_loss: 0.4107 - val_accuracy: 0.9496\n",
            "Epoch 13/30\n",
            "44/44 [==============================] - 6s 135ms/step - loss: 3.6121e-05 - accuracy: 1.0000 - val_loss: 0.4142 - val_accuracy: 0.9496\n",
            "Epoch 14/30\n",
            "44/44 [==============================] - 6s 135ms/step - loss: 3.1525e-05 - accuracy: 1.0000 - val_loss: 0.4201 - val_accuracy: 0.9496\n",
            "Epoch 15/30\n",
            "44/44 [==============================] - 6s 135ms/step - loss: 2.5660e-05 - accuracy: 1.0000 - val_loss: 0.4224 - val_accuracy: 0.9532\n",
            "Epoch 16/30\n",
            "44/44 [==============================] - 6s 135ms/step - loss: 2.1827e-05 - accuracy: 1.0000 - val_loss: 0.4242 - val_accuracy: 0.9496\n",
            "Epoch 17/30\n",
            "44/44 [==============================] - 6s 136ms/step - loss: 1.9653e-05 - accuracy: 1.0000 - val_loss: 0.4266 - val_accuracy: 0.9532\n",
            "Epoch 18/30\n",
            "44/44 [==============================] - 6s 135ms/step - loss: 1.7676e-05 - accuracy: 1.0000 - val_loss: 0.4277 - val_accuracy: 0.9532\n",
            "Epoch 19/30\n",
            "44/44 [==============================] - 6s 135ms/step - loss: 1.9182e-05 - accuracy: 1.0000 - val_loss: 0.4311 - val_accuracy: 0.9496\n",
            "Epoch 20/30\n",
            "44/44 [==============================] - 6s 135ms/step - loss: 1.5359e-05 - accuracy: 1.0000 - val_loss: 0.4283 - val_accuracy: 0.9496\n",
            "Epoch 21/30\n",
            "44/44 [==============================] - 6s 135ms/step - loss: 1.2143e-05 - accuracy: 1.0000 - val_loss: 0.4327 - val_accuracy: 0.9496\n",
            "Epoch 22/30\n",
            "44/44 [==============================] - 6s 135ms/step - loss: 1.4461e-05 - accuracy: 1.0000 - val_loss: 0.4377 - val_accuracy: 0.9496\n",
            "Epoch 23/30\n",
            "44/44 [==============================] - 6s 135ms/step - loss: 1.5202e-05 - accuracy: 1.0000 - val_loss: 0.4389 - val_accuracy: 0.9496\n",
            "Epoch 24/30\n",
            "44/44 [==============================] - 6s 135ms/step - loss: 8.3079e-06 - accuracy: 1.0000 - val_loss: 0.4392 - val_accuracy: 0.9532\n",
            "Epoch 25/30\n",
            "44/44 [==============================] - 6s 135ms/step - loss: 9.3192e-06 - accuracy: 1.0000 - val_loss: 0.4489 - val_accuracy: 0.9496\n",
            "Epoch 26/30\n",
            "44/44 [==============================] - 6s 135ms/step - loss: 6.4620e-06 - accuracy: 1.0000 - val_loss: 0.4469 - val_accuracy: 0.9496\n",
            "Epoch 27/30\n",
            "44/44 [==============================] - 6s 135ms/step - loss: 5.8326e-06 - accuracy: 1.0000 - val_loss: 0.4507 - val_accuracy: 0.9496\n",
            "Epoch 28/30\n",
            "44/44 [==============================] - 6s 136ms/step - loss: 7.0904e-06 - accuracy: 1.0000 - val_loss: 0.4497 - val_accuracy: 0.9496\n",
            "Epoch 29/30\n",
            "44/44 [==============================] - 6s 135ms/step - loss: 4.7124e-06 - accuracy: 1.0000 - val_loss: 0.4525 - val_accuracy: 0.9496\n",
            "Epoch 30/30\n",
            "44/44 [==============================] - 6s 135ms/step - loss: 4.5614e-06 - accuracy: 1.0000 - val_loss: 0.4521 - val_accuracy: 0.9496\n"
          ],
          "name": "stdout"
        }
      ]
    },
    {
      "cell_type": "markdown",
      "metadata": {
        "id": "0_o1RArIjDpN"
      },
      "source": [
        "- trains the model for 30 epochs"
      ]
    },
    {
      "cell_type": "code",
      "metadata": {
        "id": "Ekew2ALWGFM1",
        "colab": {
          "base_uri": "https://localhost:8080/",
          "height": 961
        },
        "outputId": "9aa71523-db77-4bee-ade7-21e14a1390e8"
      },
      "source": [
        "import matplotlib.pyplot as plt\n",
        "import numpy as np\n",
        "import os\n",
        "import PIL\n",
        "\n",
        "acc = history.history['accuracy']\n",
        "val_acc = history.history['val_accuracy']\n",
        "\n",
        "loss = history.history['loss']\n",
        "val_loss = history.history['val_loss']\n",
        "\n",
        "epochs_range = range(epochs)\n",
        "\n",
        "plt.figure(figsize=(8, 8))\n",
        "plt.subplot(1, 2, 1)\n",
        "plt.plot(epochs_range, acc, label='Training Accuracy')\n",
        "plt.plot(epochs_range, val_acc, label='Validation Accuracy')\n",
        "plt.legend(loc='middle right')\n",
        "plt.title('Training and Validation Accuracy')\n",
        "\n",
        "\n",
        "plt.subplot(1, 2, 2)\n",
        "plt.plot(epochs_range, loss, label='Training Loss')\n",
        "plt.plot(epochs_range, val_loss, label='Validation Loss')\n",
        "plt.legend(loc='middle right')\n",
        "plt.title('Training and Validation Loss')\n",
        "\n",
        "plt.show()"
      ],
      "execution_count": null,
      "outputs": [
        {
          "output_type": "stream",
          "text": [
            "/usr/local/lib/python3.7/dist-packages/ipykernel_launcher.py:18: MatplotlibDeprecationWarning: Unrecognized location 'middle right'. Falling back on 'best'; valid locations are\n",
            "\tbest\n",
            "\tupper right\n",
            "\tupper left\n",
            "\tlower left\n",
            "\tlower right\n",
            "\tright\n",
            "\tcenter left\n",
            "\tcenter right\n",
            "\tlower center\n",
            "\tupper center\n",
            "\tcenter\n",
            "This will raise an exception in 3.3.\n",
            "/usr/local/lib/python3.7/dist-packages/ipykernel_launcher.py:25: MatplotlibDeprecationWarning: Unrecognized location 'middle right'. Falling back on 'best'; valid locations are\n",
            "\tbest\n",
            "\tupper right\n",
            "\tupper left\n",
            "\tlower left\n",
            "\tlower right\n",
            "\tright\n",
            "\tcenter left\n",
            "\tcenter right\n",
            "\tlower center\n",
            "\tupper center\n",
            "\tcenter\n",
            "This will raise an exception in 3.3.\n"
          ],
          "name": "stderr"
        },
        {
          "output_type": "display_data",
          "data": {
            "image/png": "[encoded data removed]",
            "text/plain": [
              "<Figure size 576x576 with 2 Axes>"
            ]
          },
          "metadata": {
            "tags": [],
            "needs_background": "light"
          }
        }
      ]
    },
    {
      "cell_type": "markdown",
      "metadata": {
        "id": "OpywgURcjTCc"
      },
      "source": [
        "- plots training and validation accuracies and losses"
      ]
    },
    {
      "cell_type": "code",
      "metadata": {
        "colab": {
          "base_uri": "https://localhost:8080/",
          "height": 445
        },
        "id": "TbrxZ-T9GIIk",
        "outputId": "2a7b06cb-e0e0-4296-fec9-71ab1e06d936"
      },
      "source": [
        "from sklearn.metrics import confusion_matrix\n",
        "import seaborn as sn\n",
        "import pandas as pd\n",
        "import matplotlib.pyplot as plt\n",
        "y_pred = model.predict(x_test)\n",
        "predicted_categories = tf.argmax(y_pred, axis=1)\n",
        "true_categories = tf.concat([y_test], axis=0)\n",
        "array_1 = confusion_matrix(predicted_categories, true_categories, normalize=None)\n",
        "df_cm = pd.DataFrame(array_1, index = [i for i in ['amaj', 'amin', 'bmin', 'cmaj', 'dmaj','dmin', 'emaj', 'emin', 'fmaj', 'gmaj', 'gmin']],\n",
        "                  columns = [i for i in ['amaj', 'amin', 'bmin', 'cmaj', 'dmaj','dmin', 'emaj', 'emin', 'fmaj', 'gmaj', 'gmin']])\n",
        "plt.figure(figsize = (10,7))\n",
        "sn.heatmap(df_cm, annot=True)\n"
      ],
      "execution_count": null,
      "outputs": [
        {
          "output_type": "execute_result",
          "data": {
            "text/plain": [
              "<matplotlib.axes._subplots.AxesSubplot at 0x7f8700c4ca90>"
            ]
          },
          "metadata": {
            "tags": []
          },
          "execution_count": 49
        },
        {
          "output_type": "display_data",
          "data": {
            "image/png": "[encoded data removed]",
            "text/plain": [
              "<Figure size 720x504 with 2 Axes>"
            ]
          },
          "metadata": {
            "tags": [],
            "needs_background": "light"
          }
        }
      ]
    },
    {
      "cell_type": "markdown",
      "metadata": {
        "id": "6ZVUR8BmjeOE"
      },
      "source": [
        "- plots confusion matrix for test data of this model"
      ]
    },
    {
      "cell_type": "code",
      "metadata": {
        "colab": {
          "base_uri": "https://localhost:8080/"
        },
        "id": "_oRyfDD8UG_N",
        "outputId": "f0fc8f5b-0806-4c8b-ea4c-6491018ebf3b"
      },
      "source": [
        "model.load_weights('/content/drive/MyDrive/project/multiclass key models/reduced keys more data/model_epoch15-loss0.4224')"
      ],
      "execution_count": null,
      "outputs": [
        {
          "output_type": "execute_result",
          "data": {
            "text/plain": [
              "<tensorflow.python.training.tracking.util.CheckpointLoadStatus at 0x7f87038a7590>"
            ]
          },
          "metadata": {
            "tags": []
          },
          "execution_count": 50
        }
      ]
    },
    {
      "cell_type": "markdown",
      "metadata": {
        "id": "oJvwOl8Ijj58"
      },
      "source": [
        "- loads in the weights at the point that minimised validation loss during training"
      ]
    },
    {
      "cell_type": "code",
      "metadata": {
        "colab": {
          "base_uri": "https://localhost:8080/",
          "height": 445
        },
        "id": "7ynGTYiNUGLe",
        "outputId": "5b554eb9-bccc-4026-a5b9-23f647063c2e"
      },
      "source": [
        "from sklearn.metrics import confusion_matrix\n",
        "import seaborn as sn\n",
        "import pandas as pd\n",
        "import matplotlib.pyplot as plt\n",
        "y_pred = model.predict(x_test)\n",
        "predicted_categories = tf.argmax(y_pred, axis=1)\n",
        "true_categories = tf.concat([y_test], axis=0)\n",
        "array_2 = confusion_matrix(predicted_categories, true_categories, normalize=None)\n",
        "df_cm = pd.DataFrame(array_2, index = [i for i in ['amaj', 'amin', 'bmin', 'cmaj', 'dmaj','dmin', 'emaj', 'emin', 'fmaj', 'gmaj', 'gmin']],\n",
        "                  columns = [i for i in ['amaj', 'amin', 'bmin', 'cmaj', 'dmaj','dmin', 'emaj', 'emin', 'fmaj', 'gmaj', 'gmin']])\n",
        "plt.figure(figsize = (10,7))\n",
        "sn.heatmap(df_cm, annot=True)"
      ],
      "execution_count": null,
      "outputs": [
        {
          "output_type": "execute_result",
          "data": {
            "text/plain": [
              "<matplotlib.axes._subplots.AxesSubplot at 0x7f8703a680d0>"
            ]
          },
          "metadata": {
            "tags": []
          },
          "execution_count": 51
        },
        {
          "output_type": "display_data",
          "data": {
            "image/png": "[encoded data removed]",
            "text/plain": [
              "<Figure size 720x504 with 2 Axes>"
            ]
          },
          "metadata": {
            "tags": [],
            "needs_background": "light"
          }
        }
      ]
    },
    {
      "cell_type": "markdown",
      "metadata": {
        "id": "beDNnIqvkNz1"
      },
      "source": [
        "- plots a confusion matrix for the weight-optimised model"
      ]
    },
    {
      "cell_type": "code",
      "metadata": {
        "colab": {
          "base_uri": "https://localhost:8080/"
        },
        "id": "2fgr7MtMvC3s",
        "outputId": "fb1fec51-97a8-4471-8933-e0808897dfca"
      },
      "source": [
        "import numpy as np\n",
        "vers = [array_1, array_2]\n",
        "all_outcomes_ = np.empty((2,11,4), dtype= int)\n",
        "for x in range(0,2):\n",
        "  print('TP FP FN TN')\n",
        "  outcomes = np.empty((11,4), dtype= int)\n",
        "  array = np.array(vers[x])\n",
        "  a = sum(array)\n",
        "  all_vals = sum(a)\n",
        "  #0 = tp\n",
        "  #1 = fp\n",
        "  #2 = fn\n",
        "  #3 = tn\n",
        "  for i in range(0,11):\n",
        "    mid = 0\n",
        "    outcomes[i][0] = array[i][i]\n",
        "    outcomes[i][1] = sum(array[i][:]) - array[i][i]\n",
        "    for j in range(0,11):\n",
        "      mid += array[j][i]\n",
        "    outcomes[i][2] = mid - array[i][i]\n",
        "    outcomes[i][3] = all_vals - (outcomes[i][0] + outcomes[i][1] + outcomes[i][2])\n",
        "  print(outcomes)\n",
        "  print('---------')\n",
        "  all_outcomes_[x][:][:] = outcomes"
      ],
      "execution_count": null,
      "outputs": [
        {
          "output_type": "stream",
          "text": [
            "TP FP FN TN\n",
            "[[ 23   1   0 162]\n",
            " [ 21   0   1 164]\n",
            " [  1   1   2 182]\n",
            " [ 17   1   0 168]\n",
            " [ 17   2   1 166]\n",
            " [ 21   1   1 163]\n",
            " [  4   0   1 181]\n",
            " [ 14   0   2 170]\n",
            " [ 17   0   1 168]\n",
            " [ 19   2   0 165]\n",
            " [ 23   1   0 162]]\n",
            "---------\n",
            "TP FP FN TN\n",
            "[[ 23   1   0 162]\n",
            " [ 21   0   1 164]\n",
            " [  1   1   2 182]\n",
            " [ 17   1   0 168]\n",
            " [ 17   2   1 166]\n",
            " [ 21   1   1 163]\n",
            " [  4   0   1 181]\n",
            " [ 14   0   2 170]\n",
            " [ 17   0   1 168]\n",
            " [ 19   2   0 165]\n",
            " [ 23   1   0 162]]\n",
            "---------\n"
          ],
          "name": "stdout"
        }
      ]
    },
    {
      "cell_type": "markdown",
      "metadata": {
        "id": "iDeSbGSxkU8d"
      },
      "source": [
        "- extracts the TP, FP, FN and TN for each class of the final model and the weight optimised model"
      ]
    },
    {
      "cell_type": "code",
      "metadata": {
        "colab": {
          "base_uri": "https://localhost:8080/"
        },
        "id": "jrHCQ39v5zDa",
        "outputId": "782d536a-bb31-47c9-b775-9669279e46a2"
      },
      "source": [
        "overall = np.zeros((2,4), dtype= float)\n",
        "i = 0\n",
        "for x in all_outcomes_ :\n",
        "  for y in range(0,11):\n",
        "    overall[i][0] += x[y][0]\n",
        "    overall[i][1] += x[y][1]\n",
        "    overall[i][2] += x[y][2]\n",
        "    overall[i][3] += x[y][3]\n",
        "  i+=1\n",
        "print(overall)"
      ],
      "execution_count": null,
      "outputs": [
        {
          "output_type": "stream",
          "text": [
            "[[ 177.    9.    9. 1851.]\n",
            " [ 177.    9.    9. 1851.]]\n"
          ],
          "name": "stdout"
        }
      ]
    },
    {
      "cell_type": "markdown",
      "metadata": {
        "id": "2vX3dzLykmWb"
      },
      "source": [
        "- sums the TP, FP, FN, and TN for each model overall"
      ]
    },
    {
      "cell_type": "code",
      "metadata": {
        "colab": {
          "base_uri": "https://localhost:8080/"
        },
        "id": "wXINO0AS4sZJ",
        "outputId": "b0bbe40c-91d6-41df-f500-c40e16e6ab2c"
      },
      "source": [
        "metrics_ = np.empty((2,11,4), dtype= float)\n",
        "i = 0\n",
        "for x in all_outcomes_:\n",
        "  for y in range(0,11):\n",
        "    metrics_[i][y][0] = x[y][0] / (x[y][0] + x[y][1])\n",
        "    metrics_[i][y][1] = x[y][0] / (x[y][0] + x[y][2])\n",
        "    metrics_[i][y][2] = x[y][3] / (x[y][3] + x[y][2])\n",
        "    metrics_[i][y][3] =  2 * metrics_[i][y][0] * metrics_[i][y][1] / (metrics_[i][y][0] + metrics_[i][y][1])\n",
        "  i+=1\n",
        "print(metrics_)"
      ],
      "execution_count": null,
      "outputs": [
        {
          "output_type": "stream",
          "text": [
            "[[[0.95833333 1.         1.         0.9787234 ]\n",
            "  [1.         0.95454545 0.99393939 0.97674419]\n",
            "  [0.5        0.33333333 0.98913043 0.4       ]\n",
            "  [0.94444444 1.         1.         0.97142857]\n",
            "  [0.89473684 0.94444444 0.99401198 0.91891892]\n",
            "  [0.95454545 0.95454545 0.99390244 0.95454545]\n",
            "  [1.         0.8        0.99450549 0.88888889]\n",
            "  [1.         0.875      0.98837209 0.93333333]\n",
            "  [1.         0.94444444 0.99408284 0.97142857]\n",
            "  [0.9047619  1.         1.         0.95      ]\n",
            "  [0.95833333 1.         1.         0.9787234 ]]\n",
            "\n",
            " [[0.95833333 1.         1.         0.9787234 ]\n",
            "  [1.         0.95454545 0.99393939 0.97674419]\n",
            "  [0.5        0.33333333 0.98913043 0.4       ]\n",
            "  [0.94444444 1.         1.         0.97142857]\n",
            "  [0.89473684 0.94444444 0.99401198 0.91891892]\n",
            "  [0.95454545 0.95454545 0.99390244 0.95454545]\n",
            "  [1.         0.8        0.99450549 0.88888889]\n",
            "  [1.         0.875      0.98837209 0.93333333]\n",
            "  [1.         0.94444444 0.99408284 0.97142857]\n",
            "  [0.9047619  1.         1.         0.95      ]\n",
            "  [0.95833333 1.         1.         0.9787234 ]]]\n"
          ],
          "name": "stdout"
        }
      ]
    },
    {
      "cell_type": "markdown",
      "metadata": {
        "id": "hr3IBhGlk-kj"
      },
      "source": [
        "- calculates the precision, recall, specificity and f-score per class of both models"
      ]
    },
    {
      "cell_type": "code",
      "metadata": {
        "colab": {
          "base_uri": "https://localhost:8080/"
        },
        "id": "AYfmCWZj633p",
        "outputId": "80747004-9357-4c1b-afc3-1f7e8e919d53"
      },
      "source": [
        "overall_metrics = np.empty((2,4), dtype= float)\n",
        "i =0\n",
        "for x in overall:\n",
        "  print(x)\n",
        "  overall_metrics[i][0] = x[0] / (x[0] + x[1])\n",
        "  overall_metrics[i][1] = x[0] / (x[0] + x[2])\n",
        "  overall_metrics[i][2] = x[3] / (x[3] + x[2])\n",
        "  overall_metrics[i][3] =  2 * overall_metrics[i][0] * overall_metrics[i][1] / (overall_metrics[i][0] + overall_metrics[i][1])\n",
        "  i+=1\n",
        "print(overall_metrics)"
      ],
      "execution_count": null,
      "outputs": [
        {
          "output_type": "stream",
          "text": [
            "[ 177.    9.    9. 1851.]\n",
            "[ 177.    9.    9. 1851.]\n",
            "[[0.9516129  0.9516129  0.99516129 0.9516129 ]\n",
            " [0.9516129  0.9516129  0.99516129 0.9516129 ]]\n"
          ],
          "name": "stdout"
        }
      ]
    },
    {
      "cell_type": "markdown",
      "metadata": {
        "id": "UMVlBM39lQs7"
      },
      "source": [
        "- calculates overall precision, recall and f-measure for the model"
      ]
    },
    {
      "cell_type": "code",
      "metadata": {
        "colab": {
          "base_uri": "https://localhost:8080/"
        },
        "id": "z_1vNygaZ760",
        "outputId": "f1defd95-f7a1-4bce-d7bf-6320d15827ad"
      },
      "source": [
        "model.save('/content/drive/MyDrive/project/multiclass key models/final model')"
      ],
      "execution_count": null,
      "outputs": [
        {
          "output_type": "stream",
          "text": [
            "INFO:tensorflow:Assets written to: /content/drive/MyDrive/project/multiclass key models/final model/assets\n"
          ],
          "name": "stdout"
        }
      ]
    },
    {
      "cell_type": "markdown",
      "metadata": {
        "id": "QEqqiHGxl2u0"
      },
      "source": [
        "- saves the best model as the final model"
      ]
    },
    {
      "cell_type": "code",
      "metadata": {
        "id": "Nf8B4yDXVZSR"
      },
      "source": [
        "from tensorflow import keras\n",
        "model = keras.models.load_model('/content/drive/MyDrive/project/multiclass key models/final model')"
      ],
      "execution_count": null,
      "outputs": []
    },
    {
      "cell_type": "markdown",
      "metadata": {
        "id": "KI98WoPGl6qL"
      },
      "source": [
        "- loads in the best model"
      ]
    },
    {
      "cell_type": "code",
      "metadata": {
        "id": "Wv_SHojjVj8n"
      },
      "source": [
        "import glob\n",
        "import tensorflow as tf\n",
        "import numpy as np\n",
        "\n",
        "img_height = 288\n",
        "img_width = 432\n",
        "\n",
        "a_dor = []\n",
        "a_mix = []\n",
        "d_mix = []\n",
        "e_dor = []\n",
        "data = []\n",
        "count = 0\n",
        "for i in  glob.glob('/content/drive/MyDrive/project/key_images/ador/*.*'):\n",
        "  image=tf.keras.preprocessing.image.load_img(i, color_mode='rgb', \n",
        "    target_size= (img_width,img_height))\n",
        "  image=np.array(image)\n",
        "  a_dor.append(image)\n",
        "  count+=1\n",
        "  if count >4:\n",
        "    break\n",
        "count = 0\n",
        "for i in  glob.glob('/content/drive/MyDrive/project/key_images/amix/*.*'):\n",
        "  image=tf.keras.preprocessing.image.load_img(i, color_mode='rgb', \n",
        "    target_size= (img_width,img_height))\n",
        "  image=np.array(image)\n",
        "  a_mix.append(image)\n",
        "  count+=1\n",
        "  if count >4:\n",
        "    break\n",
        "count = 0\n",
        "for i in  glob.glob('/content/drive/MyDrive/project/key_images/dmix/*.*'):\n",
        "  image=tf.keras.preprocessing.image.load_img(i, color_mode='rgb', \n",
        "    target_size= (img_width,img_height))\n",
        "  image=np.array(image)\n",
        "  d_mix.append(image)\n",
        "  count+=1\n",
        "  if count >4:\n",
        "    break\n",
        "count = 0\n",
        "for i in  glob.glob('/content/drive/MyDrive/project/key_images/edor/*.*'):\n",
        "  image=tf.keras.preprocessing.image.load_img(i, color_mode='rgb', \n",
        "    target_size= (img_width,img_height))\n",
        "  image=np.array(image)\n",
        "  e_dor.append(image)\n",
        "  count+=1\n",
        "  if count >4:\n",
        "    break"
      ],
      "execution_count": null,
      "outputs": []
    },
    {
      "cell_type": "markdown",
      "metadata": {
        "id": "7hClHLs0mFZ8"
      },
      "source": [
        "- loads in 5 images of each of the mode class to see how the model predicts for the modes"
      ]
    },
    {
      "cell_type": "code",
      "metadata": {
        "colab": {
          "base_uri": "https://localhost:8080/"
        },
        "id": "vBR3EouNW9rA",
        "outputId": "30c7eeee-5eef-42d2-9249-29492eda4765"
      },
      "source": [
        "a_dor = np.array(a_dor)\n",
        "a = model.predict_classes(a_dor)\n",
        "print(a)\n",
        "a_mix = np.array(a_mix)\n",
        "print(model.predict_classes(a_mix))\n",
        "d_mix = np.array(d_mix)\n",
        "print(model.predict_classes(d_mix))\n",
        "e_dor = np.array(e_dor)\n",
        "print(model.predict_classes(e_dor))"
      ],
      "execution_count": null,
      "outputs": [
        {
          "output_type": "stream",
          "text": [
            "[7 7 7 9 7]\n"
          ],
          "name": "stdout"
        },
        {
          "output_type": "stream",
          "text": [
            "/usr/local/lib/python3.7/dist-packages/tensorflow/python/keras/engine/sequential.py:450: UserWarning: `model.predict_classes()` is deprecated and will be removed after 2021-01-01. Please use instead:* `np.argmax(model.predict(x), axis=-1)`,   if your model does multi-class classification   (e.g. if it uses a `softmax` last-layer activation).* `(model.predict(x) > 0.5).astype(\"int32\")`,   if your model does binary classification   (e.g. if it uses a `sigmoid` last-layer activation).\n",
            "  warnings.warn('`model.predict_classes()` is deprecated and '\n"
          ],
          "name": "stderr"
        }
      ]
    },
    {
      "cell_type": "markdown",
      "metadata": {
        "id": "4KoN7x2OmSaD"
      },
      "source": [
        "- prints which classes are predicted for each mode"
      ]
    }
  ]
}